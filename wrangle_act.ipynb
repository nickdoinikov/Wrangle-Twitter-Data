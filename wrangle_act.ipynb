{
 "cells": [
  {
   "cell_type": "markdown",
   "metadata": {},
   "source": [
    "# Wrangle and Analyze Twitter data\n",
    "\n",
    "\n",
    "## Table of Contents\n",
    "- [Introduction](#intro)\n",
    "- [Gathering](#gather)\n",
    "- [Assessing](#assess)\n",
    "- [Issues](#issues)\n",
    "- [Cleaning](#clean)\n",
    "- [Insights & Visualizations](#visual)\n",
    "\n",
    "\n",
    "<a id='intro'></a>\n",
    "## Introduction"
   ]
  },
  {
   "cell_type": "markdown",
   "metadata": {},
   "source": [
    "<a id='gather'></a>\n",
    "## Gathering\n",
    "\n",
    "#### 1. Working with `twitter-archive-enhanced.csv`\n",
    "At first, we will read the `twitter-archive-enhanced.csv` file that is readily available for our analysis in Udacity project section.\n",
    "To do that, we will first have to import pandas."
   ]
  },
  {
   "cell_type": "code",
   "execution_count": 967,
   "metadata": {},
   "outputs": [],
   "source": [
    "# Import pandas\n",
    "import pandas as pd"
   ]
  },
  {
   "cell_type": "code",
   "execution_count": 968,
   "metadata": {},
   "outputs": [],
   "source": [
    "# Integrate the twitter-archive-enhanced.csv file\n",
    "df_arch = pd.read_csv('twitter-archive-enhanced.csv')"
   ]
  },
  {
   "cell_type": "code",
   "execution_count": 970,
   "metadata": {
    "collapsed": true
   },
   "outputs": [
    {
     "data": {
      "text/html": [
       "<div>\n",
       "<style scoped>\n",
       "    .dataframe tbody tr th:only-of-type {\n",
       "        vertical-align: middle;\n",
       "    }\n",
       "\n",
       "    .dataframe tbody tr th {\n",
       "        vertical-align: top;\n",
       "    }\n",
       "\n",
       "    .dataframe thead th {\n",
       "        text-align: right;\n",
       "    }\n",
       "</style>\n",
       "<table border=\"1\" class=\"dataframe\">\n",
       "  <thead>\n",
       "    <tr style=\"text-align: right;\">\n",
       "      <th></th>\n",
       "      <th>tweet_id</th>\n",
       "      <th>in_reply_to_status_id</th>\n",
       "      <th>in_reply_to_user_id</th>\n",
       "      <th>timestamp</th>\n",
       "      <th>source</th>\n",
       "      <th>text</th>\n",
       "      <th>retweeted_status_id</th>\n",
       "      <th>retweeted_status_user_id</th>\n",
       "      <th>retweeted_status_timestamp</th>\n",
       "      <th>expanded_urls</th>\n",
       "      <th>rating_numerator</th>\n",
       "      <th>rating_denominator</th>\n",
       "      <th>name</th>\n",
       "      <th>doggo</th>\n",
       "      <th>floofer</th>\n",
       "      <th>pupper</th>\n",
       "      <th>puppo</th>\n",
       "    </tr>\n",
       "  </thead>\n",
       "  <tbody>\n",
       "    <tr>\n",
       "      <td>0</td>\n",
       "      <td>892420643555336193</td>\n",
       "      <td>NaN</td>\n",
       "      <td>NaN</td>\n",
       "      <td>2017-08-01 16:23:56 +0000</td>\n",
       "      <td>&lt;a href=\"http://twitter.com/download/iphone\" r...</td>\n",
       "      <td>This is Phineas. He's a mystical boy. Only eve...</td>\n",
       "      <td>NaN</td>\n",
       "      <td>NaN</td>\n",
       "      <td>NaN</td>\n",
       "      <td>https://twitter.com/dog_rates/status/892420643...</td>\n",
       "      <td>13</td>\n",
       "      <td>10</td>\n",
       "      <td>Phineas</td>\n",
       "      <td>None</td>\n",
       "      <td>None</td>\n",
       "      <td>None</td>\n",
       "      <td>None</td>\n",
       "    </tr>\n",
       "    <tr>\n",
       "      <td>1</td>\n",
       "      <td>892177421306343426</td>\n",
       "      <td>NaN</td>\n",
       "      <td>NaN</td>\n",
       "      <td>2017-08-01 00:17:27 +0000</td>\n",
       "      <td>&lt;a href=\"http://twitter.com/download/iphone\" r...</td>\n",
       "      <td>This is Tilly. She's just checking pup on you....</td>\n",
       "      <td>NaN</td>\n",
       "      <td>NaN</td>\n",
       "      <td>NaN</td>\n",
       "      <td>https://twitter.com/dog_rates/status/892177421...</td>\n",
       "      <td>13</td>\n",
       "      <td>10</td>\n",
       "      <td>Tilly</td>\n",
       "      <td>None</td>\n",
       "      <td>None</td>\n",
       "      <td>None</td>\n",
       "      <td>None</td>\n",
       "    </tr>\n",
       "    <tr>\n",
       "      <td>2</td>\n",
       "      <td>891815181378084864</td>\n",
       "      <td>NaN</td>\n",
       "      <td>NaN</td>\n",
       "      <td>2017-07-31 00:18:03 +0000</td>\n",
       "      <td>&lt;a href=\"http://twitter.com/download/iphone\" r...</td>\n",
       "      <td>This is Archie. He is a rare Norwegian Pouncin...</td>\n",
       "      <td>NaN</td>\n",
       "      <td>NaN</td>\n",
       "      <td>NaN</td>\n",
       "      <td>https://twitter.com/dog_rates/status/891815181...</td>\n",
       "      <td>12</td>\n",
       "      <td>10</td>\n",
       "      <td>Archie</td>\n",
       "      <td>None</td>\n",
       "      <td>None</td>\n",
       "      <td>None</td>\n",
       "      <td>None</td>\n",
       "    </tr>\n",
       "  </tbody>\n",
       "</table>\n",
       "</div>"
      ],
      "text/plain": [
       "             tweet_id  in_reply_to_status_id  in_reply_to_user_id  \\\n",
       "0  892420643555336193                    NaN                  NaN   \n",
       "1  892177421306343426                    NaN                  NaN   \n",
       "2  891815181378084864                    NaN                  NaN   \n",
       "\n",
       "                   timestamp  \\\n",
       "0  2017-08-01 16:23:56 +0000   \n",
       "1  2017-08-01 00:17:27 +0000   \n",
       "2  2017-07-31 00:18:03 +0000   \n",
       "\n",
       "                                              source  \\\n",
       "0  <a href=\"http://twitter.com/download/iphone\" r...   \n",
       "1  <a href=\"http://twitter.com/download/iphone\" r...   \n",
       "2  <a href=\"http://twitter.com/download/iphone\" r...   \n",
       "\n",
       "                                                text  retweeted_status_id  \\\n",
       "0  This is Phineas. He's a mystical boy. Only eve...                  NaN   \n",
       "1  This is Tilly. She's just checking pup on you....                  NaN   \n",
       "2  This is Archie. He is a rare Norwegian Pouncin...                  NaN   \n",
       "\n",
       "   retweeted_status_user_id retweeted_status_timestamp  \\\n",
       "0                       NaN                        NaN   \n",
       "1                       NaN                        NaN   \n",
       "2                       NaN                        NaN   \n",
       "\n",
       "                                       expanded_urls  rating_numerator  \\\n",
       "0  https://twitter.com/dog_rates/status/892420643...                13   \n",
       "1  https://twitter.com/dog_rates/status/892177421...                13   \n",
       "2  https://twitter.com/dog_rates/status/891815181...                12   \n",
       "\n",
       "   rating_denominator     name doggo floofer pupper puppo  \n",
       "0                  10  Phineas  None    None   None  None  \n",
       "1                  10    Tilly  None    None   None  None  \n",
       "2                  10   Archie  None    None   None  None  "
      ]
     },
     "execution_count": 970,
     "metadata": {},
     "output_type": "execute_result"
    }
   ],
   "source": [
    "# Check that we correctly imported the file\n",
    "df_arch.head(3)"
   ]
  },
  {
   "cell_type": "markdown",
   "metadata": {},
   "source": [
    "#### 2. Working with `image_predictions.tsv`\n",
    "This file is available via the link provided in the Udacity project section so I will have to download this one programmatically.\n",
    "To do that, I will have to import a couple of features first"
   ]
  },
  {
   "cell_type": "code",
   "execution_count": 2,
   "metadata": {},
   "outputs": [],
   "source": [
    "# import libraries: requests and os\n",
    "import requests\n",
    "import os"
   ]
  },
  {
   "cell_type": "code",
   "execution_count": 7,
   "metadata": {},
   "outputs": [],
   "source": [
    "# get the url\n",
    "url = 'https://d17h27t6h515a5.cloudfront.net/topher/2017/August/599fd2ad_image-predictions/image-predictions.tsv'\n",
    "response = requests.get(url)"
   ]
  },
  {
   "cell_type": "code",
   "execution_count": 8,
   "metadata": {},
   "outputs": [],
   "source": [
    "# download the file\n",
    "with open(url.split('/')[-1], mode = 'wb') as file:\n",
    "    file.write(response.content)"
   ]
  },
  {
   "cell_type": "code",
   "execution_count": 972,
   "metadata": {},
   "outputs": [
    {
     "data": {
      "text/html": [
       "<div>\n",
       "<style scoped>\n",
       "    .dataframe tbody tr th:only-of-type {\n",
       "        vertical-align: middle;\n",
       "    }\n",
       "\n",
       "    .dataframe tbody tr th {\n",
       "        vertical-align: top;\n",
       "    }\n",
       "\n",
       "    .dataframe thead th {\n",
       "        text-align: right;\n",
       "    }\n",
       "</style>\n",
       "<table border=\"1\" class=\"dataframe\">\n",
       "  <thead>\n",
       "    <tr style=\"text-align: right;\">\n",
       "      <th></th>\n",
       "      <th>tweet_id</th>\n",
       "      <th>jpg_url</th>\n",
       "      <th>img_num</th>\n",
       "      <th>p1</th>\n",
       "      <th>p1_conf</th>\n",
       "      <th>p1_dog</th>\n",
       "      <th>p2</th>\n",
       "      <th>p2_conf</th>\n",
       "      <th>p2_dog</th>\n",
       "      <th>p3</th>\n",
       "      <th>p3_conf</th>\n",
       "      <th>p3_dog</th>\n",
       "    </tr>\n",
       "  </thead>\n",
       "  <tbody>\n",
       "    <tr>\n",
       "      <td>2072</td>\n",
       "      <td>891815181378084864</td>\n",
       "      <td>https://pbs.twimg.com/media/DGBdLU1WsAANxJ9.jpg</td>\n",
       "      <td>1</td>\n",
       "      <td>Chihuahua</td>\n",
       "      <td>0.716012</td>\n",
       "      <td>True</td>\n",
       "      <td>malamute</td>\n",
       "      <td>0.078253</td>\n",
       "      <td>True</td>\n",
       "      <td>kelpie</td>\n",
       "      <td>0.031379</td>\n",
       "      <td>True</td>\n",
       "    </tr>\n",
       "    <tr>\n",
       "      <td>2073</td>\n",
       "      <td>892177421306343426</td>\n",
       "      <td>https://pbs.twimg.com/media/DGGmoV4XsAAUL6n.jpg</td>\n",
       "      <td>1</td>\n",
       "      <td>Chihuahua</td>\n",
       "      <td>0.323581</td>\n",
       "      <td>True</td>\n",
       "      <td>Pekinese</td>\n",
       "      <td>0.090647</td>\n",
       "      <td>True</td>\n",
       "      <td>papillon</td>\n",
       "      <td>0.068957</td>\n",
       "      <td>True</td>\n",
       "    </tr>\n",
       "    <tr>\n",
       "      <td>2074</td>\n",
       "      <td>892420643555336193</td>\n",
       "      <td>https://pbs.twimg.com/media/DGKD1-bXoAAIAUK.jpg</td>\n",
       "      <td>1</td>\n",
       "      <td>orange</td>\n",
       "      <td>0.097049</td>\n",
       "      <td>False</td>\n",
       "      <td>bagel</td>\n",
       "      <td>0.085851</td>\n",
       "      <td>False</td>\n",
       "      <td>banana</td>\n",
       "      <td>0.076110</td>\n",
       "      <td>False</td>\n",
       "    </tr>\n",
       "  </tbody>\n",
       "</table>\n",
       "</div>"
      ],
      "text/plain": [
       "                tweet_id                                          jpg_url  \\\n",
       "2072  891815181378084864  https://pbs.twimg.com/media/DGBdLU1WsAANxJ9.jpg   \n",
       "2073  892177421306343426  https://pbs.twimg.com/media/DGGmoV4XsAAUL6n.jpg   \n",
       "2074  892420643555336193  https://pbs.twimg.com/media/DGKD1-bXoAAIAUK.jpg   \n",
       "\n",
       "      img_num         p1   p1_conf  p1_dog        p2   p2_conf  p2_dog  \\\n",
       "2072        1  Chihuahua  0.716012    True  malamute  0.078253    True   \n",
       "2073        1  Chihuahua  0.323581    True  Pekinese  0.090647    True   \n",
       "2074        1     orange  0.097049   False     bagel  0.085851   False   \n",
       "\n",
       "            p3   p3_conf  p3_dog  \n",
       "2072    kelpie  0.031379    True  \n",
       "2073  papillon  0.068957    True  \n",
       "2074    banana  0.076110   False  "
      ]
     },
     "execution_count": 972,
     "metadata": {},
     "output_type": "execute_result"
    }
   ],
   "source": [
    "# check the correct import of the file\n",
    "df_img = pd.read_csv('image-predictions.tsv', sep='\\t')\n",
    "df_img.tail(3)"
   ]
  },
  {
   "cell_type": "markdown",
   "metadata": {},
   "source": [
    "#### 3. Working with Twitter API\n",
    "**Important** : This part of the analysis requires access to Twitter developer's account. Since I have still not been granted access to the data, I just have to import the code from Udacity's Resource section."
   ]
  },
  {
   "cell_type": "code",
   "execution_count": null,
   "metadata": {},
   "outputs": [],
   "source": [
    "# Import Tweepy and JSON libraries\n",
    "import tweepy\n",
    "from tweepy import OAuthHandler\n",
    "import json\n",
    "from timeit import default_timer as timer\n",
    "\n",
    "# Query Twitter API for each tweet in the Twitter archive and save JSON in a text file\n",
    "# These are hidden to comply with Twitter's API terms and conditions\n",
    "consumer_key = 'HIDDEN'\n",
    "consumer_secret = 'HIDDEN'\n",
    "access_token = 'HIDDEN'\n",
    "access_secret = 'HIDDEN'\n",
    "\n",
    "auth = OAuthHandler(consumer_key, consumer_secret)\n",
    "auth.set_access_token(access_token, access_secret)\n",
    "\n",
    "api = tweepy.API(auth, wait_on_rate_limit=True)\n",
    "\n",
    "# NOTE TO REVIEWER: this student had mobile verification issues so the following\n",
    "# Twitter API code was sent to this student from a Udacity instructor\n",
    "# Tweet IDs for which to gather additional data via Twitter's API\n",
    "tweet_ids = arch.tweet_id.values\n",
    "len(tweet_ids)\n",
    "\n",
    "# Query Twitter's API for JSON data for each tweet ID in the Twitter archive\n",
    "count = 0\n",
    "fails_dict = {}\n",
    "start = timer()\n",
    "# Save each tweet's returned JSON as a new line in a .txt file\n",
    "with open('tweet_json.txt', 'w') as outfile:\n",
    "    # This loop will likely take 20-30 minutes to run because of Twitter's rate limit\n",
    "    for tweet_id in tweet_ids:\n",
    "        count += 1\n",
    "        print(str(count) + \": \" + str(tweet_id))\n",
    "        try:\n",
    "            tweet = api.get_status(tweet_id, tweet_mode='extended')\n",
    "            print(\"Success\")\n",
    "            json.dump(tweet._json, outfile)\n",
    "            outfile.write('\\n')\n",
    "        except tweepy.TweepError as e:\n",
    "            print(\"Fail\")\n",
    "            fails_dict[tweet_id] = e\n",
    "            pass\n",
    "end = timer()\n",
    "print(end - start)\n",
    "print(fails_dict)\n"
   ]
  },
  {
   "cell_type": "code",
   "execution_count": 973,
   "metadata": {},
   "outputs": [
    {
     "data": {
      "text/html": [
       "<div>\n",
       "<style scoped>\n",
       "    .dataframe tbody tr th:only-of-type {\n",
       "        vertical-align: middle;\n",
       "    }\n",
       "\n",
       "    .dataframe tbody tr th {\n",
       "        vertical-align: top;\n",
       "    }\n",
       "\n",
       "    .dataframe thead th {\n",
       "        text-align: right;\n",
       "    }\n",
       "</style>\n",
       "<table border=\"1\" class=\"dataframe\">\n",
       "  <thead>\n",
       "    <tr style=\"text-align: right;\">\n",
       "      <th></th>\n",
       "      <th>tweet_id</th>\n",
       "      <th>retweet_count</th>\n",
       "      <th>favorite_count</th>\n",
       "    </tr>\n",
       "  </thead>\n",
       "  <tbody>\n",
       "  </tbody>\n",
       "</table>\n",
       "</div>"
      ],
      "text/plain": [
       "Empty DataFrame\n",
       "Columns: [tweet_id, retweet_count, favorite_count]\n",
       "Index: []"
      ]
     },
     "execution_count": 973,
     "metadata": {},
     "output_type": "execute_result"
    }
   ],
   "source": [
    "# Create an empty data frame with only necessary columns\n",
    "df_rt = pd.DataFrame(columns = ['tweet_id','retweet_count','favorite_count'])\n",
    "df_rt"
   ]
  },
  {
   "cell_type": "code",
   "execution_count": 974,
   "metadata": {},
   "outputs": [],
   "source": [
    "import json\n",
    "\n",
    "with open('tweet-json.txt', 'r') as outfile:\n",
    "    for line in outfile:\n",
    "        data = json.loads(line)\n",
    "        tweet_id = data['id']\n",
    "        retweet_count = data['retweet_count']\n",
    "        favorite_count = data['favorite_count']\n",
    "        df_rt = df_rt.append({\n",
    "                    'tweet_id': tweet_id,\n",
    "                    'retweet_count': retweet_count,\n",
    "                    'favorite_count': favorite_count}, ignore_index=True)"
   ]
  },
  {
   "cell_type": "code",
   "execution_count": 975,
   "metadata": {},
   "outputs": [
    {
     "data": {
      "text/html": [
       "<div>\n",
       "<style scoped>\n",
       "    .dataframe tbody tr th:only-of-type {\n",
       "        vertical-align: middle;\n",
       "    }\n",
       "\n",
       "    .dataframe tbody tr th {\n",
       "        vertical-align: top;\n",
       "    }\n",
       "\n",
       "    .dataframe thead th {\n",
       "        text-align: right;\n",
       "    }\n",
       "</style>\n",
       "<table border=\"1\" class=\"dataframe\">\n",
       "  <thead>\n",
       "    <tr style=\"text-align: right;\">\n",
       "      <th></th>\n",
       "      <th>tweet_id</th>\n",
       "      <th>retweet_count</th>\n",
       "      <th>favorite_count</th>\n",
       "    </tr>\n",
       "  </thead>\n",
       "  <tbody>\n",
       "    <tr>\n",
       "      <td>0</td>\n",
       "      <td>892420643555336193</td>\n",
       "      <td>8853</td>\n",
       "      <td>39467</td>\n",
       "    </tr>\n",
       "    <tr>\n",
       "      <td>1</td>\n",
       "      <td>892177421306343426</td>\n",
       "      <td>6514</td>\n",
       "      <td>33819</td>\n",
       "    </tr>\n",
       "    <tr>\n",
       "      <td>2</td>\n",
       "      <td>891815181378084864</td>\n",
       "      <td>4328</td>\n",
       "      <td>25461</td>\n",
       "    </tr>\n",
       "    <tr>\n",
       "      <td>3</td>\n",
       "      <td>891689557279858688</td>\n",
       "      <td>8964</td>\n",
       "      <td>42908</td>\n",
       "    </tr>\n",
       "    <tr>\n",
       "      <td>4</td>\n",
       "      <td>891327558926688256</td>\n",
       "      <td>9774</td>\n",
       "      <td>41048</td>\n",
       "    </tr>\n",
       "  </tbody>\n",
       "</table>\n",
       "</div>"
      ],
      "text/plain": [
       "             tweet_id retweet_count favorite_count\n",
       "0  892420643555336193          8853          39467\n",
       "1  892177421306343426          6514          33819\n",
       "2  891815181378084864          4328          25461\n",
       "3  891689557279858688          8964          42908\n",
       "4  891327558926688256          9774          41048"
      ]
     },
     "execution_count": 975,
     "metadata": {},
     "output_type": "execute_result"
    }
   ],
   "source": [
    "#check if the data are there\n",
    "df_rt.head()"
   ]
  },
  {
   "cell_type": "markdown",
   "metadata": {},
   "source": [
    "<a id='assess'></a>\n",
    "## Assessing\n",
    "So far, we have gathered three data frames from 3 different sources:\n",
    "* **df_arch** - via`twitter-archive-enhanced.csv` from the Udacity Resource section;\n",
    "* **df_img** - via `image-predictions.tsv` from the URL provided in the project;\n",
    "* **df_rt** - from the Twitter API\n",
    "\n",
    "Now, it's time to assess the data what we have gathered.\n",
    "The issues will be listed below.\n",
    "\n",
    "#### 1. Working with _df_arch_"
   ]
  },
  {
   "cell_type": "code",
   "execution_count": 976,
   "metadata": {
    "collapsed": true
   },
   "outputs": [
    {
     "data": {
      "text/html": [
       "<div>\n",
       "<style scoped>\n",
       "    .dataframe tbody tr th:only-of-type {\n",
       "        vertical-align: middle;\n",
       "    }\n",
       "\n",
       "    .dataframe tbody tr th {\n",
       "        vertical-align: top;\n",
       "    }\n",
       "\n",
       "    .dataframe thead th {\n",
       "        text-align: right;\n",
       "    }\n",
       "</style>\n",
       "<table border=\"1\" class=\"dataframe\">\n",
       "  <thead>\n",
       "    <tr style=\"text-align: right;\">\n",
       "      <th></th>\n",
       "      <th>tweet_id</th>\n",
       "      <th>in_reply_to_status_id</th>\n",
       "      <th>in_reply_to_user_id</th>\n",
       "      <th>timestamp</th>\n",
       "      <th>source</th>\n",
       "      <th>text</th>\n",
       "      <th>retweeted_status_id</th>\n",
       "      <th>retweeted_status_user_id</th>\n",
       "      <th>retweeted_status_timestamp</th>\n",
       "      <th>expanded_urls</th>\n",
       "      <th>rating_numerator</th>\n",
       "      <th>rating_denominator</th>\n",
       "      <th>name</th>\n",
       "      <th>doggo</th>\n",
       "      <th>floofer</th>\n",
       "      <th>pupper</th>\n",
       "      <th>puppo</th>\n",
       "    </tr>\n",
       "  </thead>\n",
       "  <tbody>\n",
       "    <tr>\n",
       "      <td>1384</td>\n",
       "      <td>700796979434098688</td>\n",
       "      <td>NaN</td>\n",
       "      <td>NaN</td>\n",
       "      <td>2016-02-19 21:39:54 +0000</td>\n",
       "      <td>&lt;a href=\"http://twitter.com/download/iphone\" r...</td>\n",
       "      <td>This is Daniel. He's a neat pup. Exotic af. Cu...</td>\n",
       "      <td>NaN</td>\n",
       "      <td>NaN</td>\n",
       "      <td>NaN</td>\n",
       "      <td>https://twitter.com/dog_rates/status/700796979...</td>\n",
       "      <td>7</td>\n",
       "      <td>10</td>\n",
       "      <td>Daniel</td>\n",
       "      <td>None</td>\n",
       "      <td>None</td>\n",
       "      <td>None</td>\n",
       "      <td>None</td>\n",
       "    </tr>\n",
       "    <tr>\n",
       "      <td>1323</td>\n",
       "      <td>706265994973601792</td>\n",
       "      <td>NaN</td>\n",
       "      <td>NaN</td>\n",
       "      <td>2016-03-05 23:51:49 +0000</td>\n",
       "      <td>&lt;a href=\"http://twitter.com/download/iphone\" r...</td>\n",
       "      <td>This is Kara. She's been trying to solve that ...</td>\n",
       "      <td>NaN</td>\n",
       "      <td>NaN</td>\n",
       "      <td>NaN</td>\n",
       "      <td>https://twitter.com/dog_rates/status/706265994...</td>\n",
       "      <td>11</td>\n",
       "      <td>10</td>\n",
       "      <td>Kara</td>\n",
       "      <td>None</td>\n",
       "      <td>None</td>\n",
       "      <td>None</td>\n",
       "      <td>None</td>\n",
       "    </tr>\n",
       "    <tr>\n",
       "      <td>840</td>\n",
       "      <td>767122157629476866</td>\n",
       "      <td>NaN</td>\n",
       "      <td>NaN</td>\n",
       "      <td>2016-08-20 22:12:29 +0000</td>\n",
       "      <td>&lt;a href=\"http://twitter.com/download/iphone\" r...</td>\n",
       "      <td>This is Rupert. You betrayed him with bath tim...</td>\n",
       "      <td>NaN</td>\n",
       "      <td>NaN</td>\n",
       "      <td>NaN</td>\n",
       "      <td>https://twitter.com/dog_rates/status/767122157...</td>\n",
       "      <td>13</td>\n",
       "      <td>10</td>\n",
       "      <td>Rupert</td>\n",
       "      <td>None</td>\n",
       "      <td>None</td>\n",
       "      <td>None</td>\n",
       "      <td>None</td>\n",
       "    </tr>\n",
       "  </tbody>\n",
       "</table>\n",
       "</div>"
      ],
      "text/plain": [
       "                tweet_id  in_reply_to_status_id  in_reply_to_user_id  \\\n",
       "1384  700796979434098688                    NaN                  NaN   \n",
       "1323  706265994973601792                    NaN                  NaN   \n",
       "840   767122157629476866                    NaN                  NaN   \n",
       "\n",
       "                      timestamp  \\\n",
       "1384  2016-02-19 21:39:54 +0000   \n",
       "1323  2016-03-05 23:51:49 +0000   \n",
       "840   2016-08-20 22:12:29 +0000   \n",
       "\n",
       "                                                 source  \\\n",
       "1384  <a href=\"http://twitter.com/download/iphone\" r...   \n",
       "1323  <a href=\"http://twitter.com/download/iphone\" r...   \n",
       "840   <a href=\"http://twitter.com/download/iphone\" r...   \n",
       "\n",
       "                                                   text  retweeted_status_id  \\\n",
       "1384  This is Daniel. He's a neat pup. Exotic af. Cu...                  NaN   \n",
       "1323  This is Kara. She's been trying to solve that ...                  NaN   \n",
       "840   This is Rupert. You betrayed him with bath tim...                  NaN   \n",
       "\n",
       "      retweeted_status_user_id retweeted_status_timestamp  \\\n",
       "1384                       NaN                        NaN   \n",
       "1323                       NaN                        NaN   \n",
       "840                        NaN                        NaN   \n",
       "\n",
       "                                          expanded_urls  rating_numerator  \\\n",
       "1384  https://twitter.com/dog_rates/status/700796979...                 7   \n",
       "1323  https://twitter.com/dog_rates/status/706265994...                11   \n",
       "840   https://twitter.com/dog_rates/status/767122157...                13   \n",
       "\n",
       "      rating_denominator    name doggo floofer pupper puppo  \n",
       "1384                  10  Daniel  None    None   None  None  \n",
       "1323                  10    Kara  None    None   None  None  \n",
       "840                   10  Rupert  None    None   None  None  "
      ]
     },
     "execution_count": 976,
     "metadata": {},
     "output_type": "execute_result"
    }
   ],
   "source": [
    "# Display the df_arch table\n",
    "df_arch.sample(3)"
   ]
  },
  {
   "cell_type": "code",
   "execution_count": 977,
   "metadata": {},
   "outputs": [
    {
     "name": "stdout",
     "output_type": "stream",
     "text": [
      "<class 'pandas.core.frame.DataFrame'>\n",
      "RangeIndex: 2356 entries, 0 to 2355\n",
      "Data columns (total 17 columns):\n",
      "tweet_id                      2356 non-null int64\n",
      "in_reply_to_status_id         78 non-null float64\n",
      "in_reply_to_user_id           78 non-null float64\n",
      "timestamp                     2356 non-null object\n",
      "source                        2356 non-null object\n",
      "text                          2356 non-null object\n",
      "retweeted_status_id           181 non-null float64\n",
      "retweeted_status_user_id      181 non-null float64\n",
      "retweeted_status_timestamp    181 non-null object\n",
      "expanded_urls                 2297 non-null object\n",
      "rating_numerator              2356 non-null int64\n",
      "rating_denominator            2356 non-null int64\n",
      "name                          2356 non-null object\n",
      "doggo                         2356 non-null object\n",
      "floofer                       2356 non-null object\n",
      "pupper                        2356 non-null object\n",
      "puppo                         2356 non-null object\n",
      "dtypes: float64(4), int64(3), object(10)\n",
      "memory usage: 313.0+ KB\n"
     ]
    }
   ],
   "source": [
    "# get the info about the table\n",
    "df_arch.info()"
   ]
  },
  {
   "cell_type": "markdown",
   "metadata": {},
   "source": [
    "Let's check if data types of particular interest are correct."
   ]
  },
  {
   "cell_type": "code",
   "execution_count": 978,
   "metadata": {},
   "outputs": [
    {
     "data": {
      "text/plain": [
       "str"
      ]
     },
     "execution_count": 978,
     "metadata": {},
     "output_type": "execute_result"
    }
   ],
   "source": [
    "# Check the data type for timestamp\n",
    "type(df_arch['timestamp'][0])"
   ]
  },
  {
   "cell_type": "code",
   "execution_count": 979,
   "metadata": {},
   "outputs": [
    {
     "data": {
      "text/plain": [
       "float"
      ]
     },
     "execution_count": 979,
     "metadata": {},
     "output_type": "execute_result"
    }
   ],
   "source": [
    "# Check the data type for retweeted_status_timestamp\n",
    "type(df_arch['retweeted_status_timestamp'][0])"
   ]
  },
  {
   "cell_type": "code",
   "execution_count": 980,
   "metadata": {},
   "outputs": [
    {
     "data": {
      "text/plain": [
       "str"
      ]
     },
     "execution_count": 980,
     "metadata": {},
     "output_type": "execute_result"
    }
   ],
   "source": [
    "# Check the data type for source\n",
    "type(df_arch['source'][0])"
   ]
  },
  {
   "cell_type": "code",
   "execution_count": 981,
   "metadata": {},
   "outputs": [
    {
     "data": {
      "text/plain": [
       "0"
      ]
     },
     "execution_count": 981,
     "metadata": {},
     "output_type": "execute_result"
    }
   ],
   "source": [
    "# Check for duplicates\n",
    "sum(df_arch.duplicated())"
   ]
  },
  {
   "cell_type": "code",
   "execution_count": 982,
   "metadata": {},
   "outputs": [
    {
     "data": {
      "text/plain": [
       "None        745\n",
       "a            55\n",
       "Charlie      12\n",
       "Lucy         11\n",
       "Cooper       11\n",
       "           ... \n",
       "Vinscent      1\n",
       "Bruiser       1\n",
       "Skittle       1\n",
       "Chaz          1\n",
       "Gert          1\n",
       "Name: name, Length: 957, dtype: int64"
      ]
     },
     "execution_count": 982,
     "metadata": {},
     "output_type": "execute_result"
    }
   ],
   "source": [
    "# get the names of all the dogs in the table\n",
    "df_arch.name.value_counts()"
   ]
  },
  {
   "cell_type": "code",
   "execution_count": 983,
   "metadata": {},
   "outputs": [
    {
     "data": {
      "text/plain": [
       "array([ 10,   0,  15,  70,   7,  11, 150, 170,  20,  50,  90,  80,  40,\n",
       "       130, 110,  16, 120,   2])"
      ]
     },
     "execution_count": 983,
     "metadata": {},
     "output_type": "execute_result"
    }
   ],
   "source": [
    "df_arch.rating_denominator.unique()"
   ]
  },
  {
   "cell_type": "code",
   "execution_count": 984,
   "metadata": {},
   "outputs": [
    {
     "data": {
      "text/plain": [
       "(array(['None', 'doggo'], dtype=object),\n",
       " array(['None', 'floofer'], dtype=object),\n",
       " array(['None', 'pupper'], dtype=object),\n",
       " array(['None', 'puppo'], dtype=object))"
      ]
     },
     "execution_count": 984,
     "metadata": {},
     "output_type": "execute_result"
    }
   ],
   "source": [
    "# Check the unique members of the Dogtionary dog type columns\n",
    "df_arch.doggo.unique(), df_arch.floofer.unique(), df_arch.pupper.unique(), df_arch.puppo.unique()"
   ]
  },
  {
   "cell_type": "markdown",
   "metadata": {},
   "source": [
    "#### 2. Working with _df_img_"
   ]
  },
  {
   "cell_type": "code",
   "execution_count": 985,
   "metadata": {},
   "outputs": [
    {
     "data": {
      "text/html": [
       "<div>\n",
       "<style scoped>\n",
       "    .dataframe tbody tr th:only-of-type {\n",
       "        vertical-align: middle;\n",
       "    }\n",
       "\n",
       "    .dataframe tbody tr th {\n",
       "        vertical-align: top;\n",
       "    }\n",
       "\n",
       "    .dataframe thead th {\n",
       "        text-align: right;\n",
       "    }\n",
       "</style>\n",
       "<table border=\"1\" class=\"dataframe\">\n",
       "  <thead>\n",
       "    <tr style=\"text-align: right;\">\n",
       "      <th></th>\n",
       "      <th>tweet_id</th>\n",
       "      <th>jpg_url</th>\n",
       "      <th>img_num</th>\n",
       "      <th>p1</th>\n",
       "      <th>p1_conf</th>\n",
       "      <th>p1_dog</th>\n",
       "      <th>p2</th>\n",
       "      <th>p2_conf</th>\n",
       "      <th>p2_dog</th>\n",
       "      <th>p3</th>\n",
       "      <th>p3_conf</th>\n",
       "      <th>p3_dog</th>\n",
       "    </tr>\n",
       "  </thead>\n",
       "  <tbody>\n",
       "    <tr>\n",
       "      <td>1970</td>\n",
       "      <td>868880397819494401</td>\n",
       "      <td>https://pbs.twimg.com/media/DA7iHL5U0AA1OQo.jpg</td>\n",
       "      <td>1</td>\n",
       "      <td>laptop</td>\n",
       "      <td>0.153718</td>\n",
       "      <td>False</td>\n",
       "      <td>French_bulldog</td>\n",
       "      <td>0.099984</td>\n",
       "      <td>True</td>\n",
       "      <td>printer</td>\n",
       "      <td>0.077130</td>\n",
       "      <td>False</td>\n",
       "    </tr>\n",
       "    <tr>\n",
       "      <td>1008</td>\n",
       "      <td>709207347839836162</td>\n",
       "      <td>https://pbs.twimg.com/media/CdecUSzUIAAHCvg.jpg</td>\n",
       "      <td>1</td>\n",
       "      <td>Chihuahua</td>\n",
       "      <td>0.948323</td>\n",
       "      <td>True</td>\n",
       "      <td>Italian_greyhound</td>\n",
       "      <td>0.017730</td>\n",
       "      <td>True</td>\n",
       "      <td>quilt</td>\n",
       "      <td>0.016688</td>\n",
       "      <td>False</td>\n",
       "    </tr>\n",
       "    <tr>\n",
       "      <td>1697</td>\n",
       "      <td>816697700272001025</td>\n",
       "      <td>https://pbs.twimg.com/media/C1V-K63UAAEUHqw.jpg</td>\n",
       "      <td>1</td>\n",
       "      <td>Chihuahua</td>\n",
       "      <td>0.756992</td>\n",
       "      <td>True</td>\n",
       "      <td>Pomeranian</td>\n",
       "      <td>0.052850</td>\n",
       "      <td>True</td>\n",
       "      <td>Maltese_dog</td>\n",
       "      <td>0.047608</td>\n",
       "      <td>True</td>\n",
       "    </tr>\n",
       "  </tbody>\n",
       "</table>\n",
       "</div>"
      ],
      "text/plain": [
       "                tweet_id                                          jpg_url  \\\n",
       "1970  868880397819494401  https://pbs.twimg.com/media/DA7iHL5U0AA1OQo.jpg   \n",
       "1008  709207347839836162  https://pbs.twimg.com/media/CdecUSzUIAAHCvg.jpg   \n",
       "1697  816697700272001025  https://pbs.twimg.com/media/C1V-K63UAAEUHqw.jpg   \n",
       "\n",
       "      img_num         p1   p1_conf  p1_dog                 p2   p2_conf  \\\n",
       "1970        1     laptop  0.153718   False     French_bulldog  0.099984   \n",
       "1008        1  Chihuahua  0.948323    True  Italian_greyhound  0.017730   \n",
       "1697        1  Chihuahua  0.756992    True         Pomeranian  0.052850   \n",
       "\n",
       "      p2_dog           p3   p3_conf  p3_dog  \n",
       "1970    True      printer  0.077130   False  \n",
       "1008    True        quilt  0.016688   False  \n",
       "1697    True  Maltese_dog  0.047608    True  "
      ]
     },
     "execution_count": 985,
     "metadata": {},
     "output_type": "execute_result"
    }
   ],
   "source": [
    "# Display the df_img table\n",
    "df_img.sample(3)"
   ]
  },
  {
   "cell_type": "code",
   "execution_count": 986,
   "metadata": {},
   "outputs": [
    {
     "name": "stdout",
     "output_type": "stream",
     "text": [
      "<class 'pandas.core.frame.DataFrame'>\n",
      "RangeIndex: 2075 entries, 0 to 2074\n",
      "Data columns (total 12 columns):\n",
      "tweet_id    2075 non-null int64\n",
      "jpg_url     2075 non-null object\n",
      "img_num     2075 non-null int64\n",
      "p1          2075 non-null object\n",
      "p1_conf     2075 non-null float64\n",
      "p1_dog      2075 non-null bool\n",
      "p2          2075 non-null object\n",
      "p2_conf     2075 non-null float64\n",
      "p2_dog      2075 non-null bool\n",
      "p3          2075 non-null object\n",
      "p3_conf     2075 non-null float64\n",
      "p3_dog      2075 non-null bool\n",
      "dtypes: bool(3), float64(3), int64(2), object(4)\n",
      "memory usage: 152.1+ KB\n"
     ]
    }
   ],
   "source": [
    "# get the information about the table\n",
    "df_img.info()"
   ]
  },
  {
   "cell_type": "code",
   "execution_count": 987,
   "metadata": {},
   "outputs": [
    {
     "data": {
      "text/plain": [
       "0"
      ]
     },
     "execution_count": 987,
     "metadata": {},
     "output_type": "execute_result"
    }
   ],
   "source": [
    "# Check for duplicated rows\n",
    "sum(df_img.duplicated())"
   ]
  },
  {
   "cell_type": "markdown",
   "metadata": {},
   "source": [
    "#### 3. Working with _df_rt_"
   ]
  },
  {
   "cell_type": "code",
   "execution_count": 988,
   "metadata": {},
   "outputs": [
    {
     "data": {
      "text/html": [
       "<div>\n",
       "<style scoped>\n",
       "    .dataframe tbody tr th:only-of-type {\n",
       "        vertical-align: middle;\n",
       "    }\n",
       "\n",
       "    .dataframe tbody tr th {\n",
       "        vertical-align: top;\n",
       "    }\n",
       "\n",
       "    .dataframe thead th {\n",
       "        text-align: right;\n",
       "    }\n",
       "</style>\n",
       "<table border=\"1\" class=\"dataframe\">\n",
       "  <thead>\n",
       "    <tr style=\"text-align: right;\">\n",
       "      <th></th>\n",
       "      <th>tweet_id</th>\n",
       "      <th>retweet_count</th>\n",
       "      <th>favorite_count</th>\n",
       "    </tr>\n",
       "  </thead>\n",
       "  <tbody>\n",
       "    <tr>\n",
       "      <td>2351</td>\n",
       "      <td>666033412701032449</td>\n",
       "      <td>47</td>\n",
       "      <td>128</td>\n",
       "    </tr>\n",
       "    <tr>\n",
       "      <td>2352</td>\n",
       "      <td>666029285002620928</td>\n",
       "      <td>48</td>\n",
       "      <td>132</td>\n",
       "    </tr>\n",
       "    <tr>\n",
       "      <td>2353</td>\n",
       "      <td>666020888022790149</td>\n",
       "      <td>532</td>\n",
       "      <td>2535</td>\n",
       "    </tr>\n",
       "  </tbody>\n",
       "</table>\n",
       "</div>"
      ],
      "text/plain": [
       "                tweet_id retweet_count favorite_count\n",
       "2351  666033412701032449            47            128\n",
       "2352  666029285002620928            48            132\n",
       "2353  666020888022790149           532           2535"
      ]
     },
     "execution_count": 988,
     "metadata": {},
     "output_type": "execute_result"
    }
   ],
   "source": [
    "# Display the last rows of the df_rt table\n",
    "df_rt.tail(3)"
   ]
  },
  {
   "cell_type": "code",
   "execution_count": 989,
   "metadata": {},
   "outputs": [
    {
     "name": "stdout",
     "output_type": "stream",
     "text": [
      "<class 'pandas.core.frame.DataFrame'>\n",
      "RangeIndex: 2354 entries, 0 to 2353\n",
      "Data columns (total 3 columns):\n",
      "tweet_id          2354 non-null object\n",
      "retweet_count     2354 non-null object\n",
      "favorite_count    2354 non-null object\n",
      "dtypes: object(3)\n",
      "memory usage: 55.3+ KB\n"
     ]
    }
   ],
   "source": [
    "# get the information about the table\n",
    "df_rt.info()"
   ]
  },
  {
   "cell_type": "code",
   "execution_count": 990,
   "metadata": {},
   "outputs": [
    {
     "data": {
      "text/plain": [
       "(int, int, int)"
      ]
     },
     "execution_count": 990,
     "metadata": {},
     "output_type": "execute_result"
    }
   ],
   "source": [
    "# Dig further for the data types\n",
    "type(df_rt['tweet_id'][0]), type(df_rt['retweet_count'][0]), type(df_rt['favorite_count'][0])"
   ]
  },
  {
   "cell_type": "markdown",
   "metadata": {},
   "source": [
    "<a id='issues'></a>\n",
    "## Issues\n",
    "\n",
    "### Quality\n",
    "`df_arch` table:\n",
    "* Some tweets are not original tweets, but replies or retweets;\n",
    "* Some tweets are not about dogs;\n",
    "* Multiple dog names in the column _name_ are incorrect;\n",
    "* Rating denominators have multiple values that are different from 10;\n",
    "* Erroneous data types for: `timestamp`, `in_reply_to_status_id`,`in_reply_to_user_id`, `retweeted_status_id`, `retweeted_status_user_id`, `retweeted_status_timestamp`;\n",
    "\n",
    "\n",
    "\n",
    "`df_img` table:\n",
    "* 2075 tweets covered instead of the full set of 2356 tweets in the archive;\n",
    "* Different name cases in `p1`, `p2`, and `p3`;\n",
    "* Non-existent dog breed types in columns: bookshop, syringe, flamingo...\n",
    "\n",
    "`df_rt` table:\n",
    "* Data types for `tweet_id`, `retweet_count`, `favorite_count` are not `int64`;\n",
    "* Data for 3 tweets are missing\n",
    "\n",
    "### Tidiness\n",
    "`df_arch` table:\n",
    "* Dogtionary dog type is split into 4 different columns (`doggo`, `floofer`, `pupper`, `puppo`);\n",
    "* The column source is not tidy and can be adjusted into different source types\n",
    "\n",
    "`df_img` table:\n",
    "* AI guesses and probabilities are split into 3 different sections (`p1`, `p2`, `p3`)\n",
    "\n",
    "Overall tidiness:\n",
    "* After cleaning the three data frames, they can be merged into one - using `df_arch` as a main element."
   ]
  },
  {
   "cell_type": "markdown",
   "metadata": {},
   "source": [
    "<a id='clean'></a>\n",
    "## Cleaning\n",
    "\n",
    "We've assessed the quality and tidiness of our data sources, and now it's time to clean them one by one.\n",
    "First, we need to make copies of our data frames."
   ]
  },
  {
   "cell_type": "code",
   "execution_count": 992,
   "metadata": {},
   "outputs": [],
   "source": [
    "# Create copies of the data frames\n",
    "arch = df_arch.copy()\n",
    "img = df_img.copy()\n",
    "rt = df_rt.copy()"
   ]
  },
  {
   "cell_type": "markdown",
   "metadata": {},
   "source": [
    "\n",
    "#### Define\n",
    "* Some tweets are not original tweets, but replies or retweets\n",
    "\n",
    "I need to slice these tweets and delete them from the data frame.\n",
    "\n",
    "#### Code"
   ]
  },
  {
   "cell_type": "code",
   "execution_count": 993,
   "metadata": {},
   "outputs": [],
   "source": [
    "# Drop the rows with non-null column in_reply_to_status_id\n",
    "arch = arch[arch.in_reply_to_status_id.isnull()]"
   ]
  },
  {
   "cell_type": "code",
   "execution_count": 994,
   "metadata": {},
   "outputs": [],
   "source": [
    "# Drop the rows with non-null column retweeted_status_id\n",
    "arch = arch[arch.retweeted_status_id.isnull()]"
   ]
  },
  {
   "cell_type": "markdown",
   "metadata": {},
   "source": [
    "#### Test"
   ]
  },
  {
   "cell_type": "code",
   "execution_count": 995,
   "metadata": {},
   "outputs": [
    {
     "data": {
      "text/plain": [
       "(0, 0, 0, 0, 0)"
      ]
     },
     "execution_count": 995,
     "metadata": {},
     "output_type": "execute_result"
    }
   ],
   "source": [
    "# Check if there are any non-null values for columns in_reply_to_status_id & in_reply_to_user_id\n",
    "# Check if there are any non-null values for retweeted_status_id, retweeted_status_user_id, retweeted_status_timestamp\n",
    "len(arch[arch.in_reply_to_status_id.notna()]), len(arch[arch.in_reply_to_user_id.notna()]), len(arch[arch.retweeted_status_id.notna()]), len(arch[arch.retweeted_status_user_id.notna()]), len(arch[arch.retweeted_status_timestamp.notna()]) "
   ]
  },
  {
   "cell_type": "code",
   "execution_count": 996,
   "metadata": {},
   "outputs": [],
   "source": [
    "# Drop the above columns that we do not need anymore\n",
    "arch = arch.drop(['in_reply_to_status_id', 'in_reply_to_user_id', 'retweeted_status_id', 'retweeted_status_user_id', 'retweeted_status_timestamp'], axis = 1)"
   ]
  },
  {
   "cell_type": "code",
   "execution_count": 998,
   "metadata": {},
   "outputs": [
    {
     "data": {
      "text/html": [
       "<div>\n",
       "<style scoped>\n",
       "    .dataframe tbody tr th:only-of-type {\n",
       "        vertical-align: middle;\n",
       "    }\n",
       "\n",
       "    .dataframe tbody tr th {\n",
       "        vertical-align: top;\n",
       "    }\n",
       "\n",
       "    .dataframe thead th {\n",
       "        text-align: right;\n",
       "    }\n",
       "</style>\n",
       "<table border=\"1\" class=\"dataframe\">\n",
       "  <thead>\n",
       "    <tr style=\"text-align: right;\">\n",
       "      <th></th>\n",
       "      <th>tweet_id</th>\n",
       "      <th>timestamp</th>\n",
       "      <th>source</th>\n",
       "      <th>text</th>\n",
       "      <th>expanded_urls</th>\n",
       "      <th>rating_numerator</th>\n",
       "      <th>rating_denominator</th>\n",
       "      <th>name</th>\n",
       "      <th>doggo</th>\n",
       "      <th>floofer</th>\n",
       "      <th>pupper</th>\n",
       "      <th>puppo</th>\n",
       "    </tr>\n",
       "  </thead>\n",
       "  <tbody>\n",
       "    <tr>\n",
       "      <td>401</td>\n",
       "      <td>824663926340194305</td>\n",
       "      <td>2017-01-26 17:02:56 +0000</td>\n",
       "      <td>&lt;a href=\"http://twitter.com/download/iphone\" r...</td>\n",
       "      <td>This is Wilson. Named after the volleyball. He...</td>\n",
       "      <td>https://twitter.com/dog_rates/status/824663926...</td>\n",
       "      <td>13</td>\n",
       "      <td>10</td>\n",
       "      <td>Wilson</td>\n",
       "      <td>None</td>\n",
       "      <td>None</td>\n",
       "      <td>None</td>\n",
       "      <td>None</td>\n",
       "    </tr>\n",
       "  </tbody>\n",
       "</table>\n",
       "</div>"
      ],
      "text/plain": [
       "               tweet_id                  timestamp  \\\n",
       "401  824663926340194305  2017-01-26 17:02:56 +0000   \n",
       "\n",
       "                                                source  \\\n",
       "401  <a href=\"http://twitter.com/download/iphone\" r...   \n",
       "\n",
       "                                                  text  \\\n",
       "401  This is Wilson. Named after the volleyball. He...   \n",
       "\n",
       "                                         expanded_urls  rating_numerator  \\\n",
       "401  https://twitter.com/dog_rates/status/824663926...                13   \n",
       "\n",
       "     rating_denominator    name doggo floofer pupper puppo  \n",
       "401                  10  Wilson  None    None   None  None  "
      ]
     },
     "execution_count": 998,
     "metadata": {},
     "output_type": "execute_result"
    }
   ],
   "source": [
    "arch.sample(1)"
   ]
  },
  {
   "cell_type": "markdown",
   "metadata": {},
   "source": [
    "#### Define\n",
    "* Some tweets are not about dogs\n",
    "\n",
    "Usually, these tweets are marked with the phrase \"We only rate dogs\", \"Only send dogs\", or some derived phrases. I will find these tweets and will delete them from the data frame.\n",
    "\n",
    "#### Code"
   ]
  },
  {
   "cell_type": "code",
   "execution_count": 1018,
   "metadata": {
    "scrolled": true
   },
   "outputs": [
    {
     "data": {
      "text/plain": [
       "array(['None', 'quite', 'incredibly', 'a', 'very', 'an', 'getting',\n",
       "       'unacceptable', 'infuriating', 'the', 'actually', 'Sammy'],\n",
       "      dtype=object)"
      ]
     },
     "execution_count": 1018,
     "metadata": {},
     "output_type": "execute_result"
    }
   ],
   "source": [
    "# Using regular expressions, find tweets with the phrase \"We only rate dogs\" or \"Only send (in) dogs\", or \"Not a dog\" and get names\n",
    "arch[arch.text.str.contains('(([Oo]nly|[Dd]o\\s?n[o\\']t)\\.?\\s+(.+\\s+)?([Ss]end|[Rr]ate)\\.?\\s+(.+\\s+)?([Dd]ogs))')].name.unique()"
   ]
  },
  {
   "cell_type": "code",
   "execution_count": 1017,
   "metadata": {
    "scrolled": true
   },
   "outputs": [
    {
     "data": {
      "text/plain": [
       "array([\"This is an Iraqi Speed Kangaroo. It is not a dog. Please only send in dogs. I'm very angry with all of you ...9/10 https://t.co/5qpBTTpgUt\"],\n",
       "      dtype=object)"
      ]
     },
     "execution_count": 1017,
     "metadata": {},
     "output_type": "execute_result"
    }
   ],
   "source": [
    "arch[arch.text.str.contains('([Nn]ot\\s+(a)\\s+(dog))')]"
   ]
  },
  {
   "cell_type": "markdown",
   "metadata": {},
   "source": [
    "As we can see, it seems that we are not missing any valid dog names, except Sammy - we can safely delete these rows from the data frame."
   ]
  },
  {
   "cell_type": "code",
   "execution_count": 1056,
   "metadata": {},
   "outputs": [
    {
     "data": {
      "text/plain": [
       "2097"
      ]
     },
     "execution_count": 1056,
     "metadata": {},
     "output_type": "execute_result"
    }
   ],
   "source": [
    "len(arch)"
   ]
  },
  {
   "cell_type": "code",
   "execution_count": 1057,
   "metadata": {},
   "outputs": [
    {
     "data": {
      "text/html": [
       "<div>\n",
       "<style scoped>\n",
       "    .dataframe tbody tr th:only-of-type {\n",
       "        vertical-align: middle;\n",
       "    }\n",
       "\n",
       "    .dataframe tbody tr th {\n",
       "        vertical-align: top;\n",
       "    }\n",
       "\n",
       "    .dataframe thead th {\n",
       "        text-align: right;\n",
       "    }\n",
       "</style>\n",
       "<table border=\"1\" class=\"dataframe\">\n",
       "  <thead>\n",
       "    <tr style=\"text-align: right;\">\n",
       "      <th></th>\n",
       "      <th>tweet_id</th>\n",
       "      <th>timestamp</th>\n",
       "      <th>source</th>\n",
       "      <th>text</th>\n",
       "      <th>expanded_urls</th>\n",
       "      <th>rating_numerator</th>\n",
       "      <th>rating_denominator</th>\n",
       "      <th>name</th>\n",
       "      <th>doggo</th>\n",
       "      <th>floofer</th>\n",
       "      <th>pupper</th>\n",
       "      <th>puppo</th>\n",
       "    </tr>\n",
       "  </thead>\n",
       "  <tbody>\n",
       "    <tr>\n",
       "      <td>1726</td>\n",
       "      <td>680055455951884288</td>\n",
       "      <td>2015-12-24 16:00:30 +0000</td>\n",
       "      <td>&lt;a href=\"https://about.twitter.com/products/tw...</td>\n",
       "      <td>Meet Sammy. At first I was like \"that's a snow...</td>\n",
       "      <td>https://twitter.com/dog_rates/status/680055455...</td>\n",
       "      <td>10</td>\n",
       "      <td>10</td>\n",
       "      <td>Sammy</td>\n",
       "      <td>None</td>\n",
       "      <td>None</td>\n",
       "      <td>None</td>\n",
       "      <td>None</td>\n",
       "    </tr>\n",
       "  </tbody>\n",
       "</table>\n",
       "</div>"
      ],
      "text/plain": [
       "                tweet_id                  timestamp  \\\n",
       "1726  680055455951884288  2015-12-24 16:00:30 +0000   \n",
       "\n",
       "                                                 source  \\\n",
       "1726  <a href=\"https://about.twitter.com/products/tw...   \n",
       "\n",
       "                                                   text  \\\n",
       "1726  Meet Sammy. At first I was like \"that's a snow...   \n",
       "\n",
       "                                          expanded_urls  rating_numerator  \\\n",
       "1726  https://twitter.com/dog_rates/status/680055455...                10   \n",
       "\n",
       "      rating_denominator   name doggo floofer pupper puppo  \n",
       "1726                  10  Sammy  None    None   None  None  "
      ]
     },
     "execution_count": 1057,
     "metadata": {},
     "output_type": "execute_result"
    }
   ],
   "source": [
    "# Save the Sammy the Snowball's tweet\n",
    "sammy = arch[arch.tweet_id == 680055455951884288]\n",
    "sammy"
   ]
  },
  {
   "cell_type": "code",
   "execution_count": 1058,
   "metadata": {},
   "outputs": [],
   "source": [
    "# Get rid of non-dog tweets\n",
    "arch = arch[~(arch.text.str.contains('(([Oo]nly)\\.?\\s+(.+\\s+)?([Ss]end|[Rr]ate)\\.?\\s+(.+\\s+)?([Dd]ogs))'))]\n",
    "arch = arch[~(arch.text.str.contains('([Nn]ot\\s+(a)\\s+(dog))'))]"
   ]
  },
  {
   "cell_type": "code",
   "execution_count": 1060,
   "metadata": {},
   "outputs": [],
   "source": [
    "# Append the Sammy the Snowball's tweet\n",
    "arch = arch.append(sammy)"
   ]
  },
  {
   "cell_type": "code",
   "execution_count": 1062,
   "metadata": {},
   "outputs": [
    {
     "data": {
      "text/html": [
       "<div>\n",
       "<style scoped>\n",
       "    .dataframe tbody tr th:only-of-type {\n",
       "        vertical-align: middle;\n",
       "    }\n",
       "\n",
       "    .dataframe tbody tr th {\n",
       "        vertical-align: top;\n",
       "    }\n",
       "\n",
       "    .dataframe thead th {\n",
       "        text-align: right;\n",
       "    }\n",
       "</style>\n",
       "<table border=\"1\" class=\"dataframe\">\n",
       "  <thead>\n",
       "    <tr style=\"text-align: right;\">\n",
       "      <th></th>\n",
       "      <th>tweet_id</th>\n",
       "      <th>timestamp</th>\n",
       "      <th>source</th>\n",
       "      <th>text</th>\n",
       "      <th>expanded_urls</th>\n",
       "      <th>rating_numerator</th>\n",
       "      <th>rating_denominator</th>\n",
       "      <th>name</th>\n",
       "      <th>doggo</th>\n",
       "      <th>floofer</th>\n",
       "      <th>pupper</th>\n",
       "      <th>puppo</th>\n",
       "    </tr>\n",
       "  </thead>\n",
       "  <tbody>\n",
       "    <tr>\n",
       "      <td>1726</td>\n",
       "      <td>680055455951884288</td>\n",
       "      <td>2015-12-24 16:00:30 +0000</td>\n",
       "      <td>&lt;a href=\"https://about.twitter.com/products/tw...</td>\n",
       "      <td>Meet Sammy. At first I was like \"that's a snow...</td>\n",
       "      <td>https://twitter.com/dog_rates/status/680055455...</td>\n",
       "      <td>10</td>\n",
       "      <td>10</td>\n",
       "      <td>Sammy</td>\n",
       "      <td>None</td>\n",
       "      <td>None</td>\n",
       "      <td>None</td>\n",
       "      <td>None</td>\n",
       "    </tr>\n",
       "  </tbody>\n",
       "</table>\n",
       "</div>"
      ],
      "text/plain": [
       "                tweet_id                  timestamp  \\\n",
       "1726  680055455951884288  2015-12-24 16:00:30 +0000   \n",
       "\n",
       "                                                 source  \\\n",
       "1726  <a href=\"https://about.twitter.com/products/tw...   \n",
       "\n",
       "                                                   text  \\\n",
       "1726  Meet Sammy. At first I was like \"that's a snow...   \n",
       "\n",
       "                                          expanded_urls  rating_numerator  \\\n",
       "1726  https://twitter.com/dog_rates/status/680055455...                10   \n",
       "\n",
       "      rating_denominator   name doggo floofer pupper puppo  \n",
       "1726                  10  Sammy  None    None   None  None  "
      ]
     },
     "execution_count": 1062,
     "metadata": {},
     "output_type": "execute_result"
    }
   ],
   "source": [
    "# Check that it is there and only once\n",
    "arch1[arch1.tweet_id == 680055455951884288]"
   ]
  },
  {
   "cell_type": "markdown",
   "metadata": {},
   "source": [
    "#### Test"
   ]
  },
  {
   "cell_type": "code",
   "execution_count": 1063,
   "metadata": {},
   "outputs": [
    {
     "data": {
      "text/plain": [
       "(1, 0)"
      ]
     },
     "execution_count": 1063,
     "metadata": {},
     "output_type": "execute_result"
    }
   ],
   "source": [
    "# Test if we cleaned it correctly\n",
    "len(arch[arch.text.str.contains('(([Oo]nly)\\.?\\s+(.+\\s+)?([Ss]end|[Rr]ate)\\.?\\s+(.+\\s+)?([Dd]ogs))')]), len(arch[arch.text.str.contains('([Nn]ot\\s+(a)\\s+(dog))')])\n",
    "# 1 is ok since we have our Sammy tweet"
   ]
  },
  {
   "cell_type": "markdown",
   "metadata": {},
   "source": [
    "#### Define\n",
    "* Multiple dog names in the column _name_ are incorrect: **'a'** instead of a name, NaNs and None\n",
    "\n",
    "Most of the tweets begin with \"This is + name, but some a \"This is + breed\"\n",
    "I will find them and extract names using regular expressions.\n",
    "Also, some twetts start with \"That is\" - with wrong names as well.\n",
    "\n",
    "#### Code"
   ]
  },
  {
   "cell_type": "code",
   "execution_count": 1064,
   "metadata": {},
   "outputs": [
    {
     "data": {
      "text/plain": [
       "array(['such', 'a', 'not', 'one', 'my', 'his', 'actually', 'just', 'mad',\n",
       "       'this', 'all', 'old', 'the', 'by', 'officially', 'life', 'light',\n",
       "       'space', 'an', 'quite'], dtype=object)"
      ]
     },
     "execution_count": 1064,
     "metadata": {},
     "output_type": "execute_result"
    }
   ],
   "source": [
    "arch[(arch.name.str.contains('([A-Z][a-z]*)') == False)].name.unique()"
   ]
  },
  {
   "cell_type": "code",
   "execution_count": 1065,
   "metadata": {
    "collapsed": true
   },
   "outputs": [
    {
     "data": {
      "text/plain": [
       "array([\"This is my dog. Her name is Zoey. She knows I've been rating other dogs. She's not happy. 13/10 no bias at all https://t.co/ep1NkYoiwB\",\n",
       "       \"This is a Sizzlin Menorah spaniel from Brooklyn named Wylie. Lovable eyes. Chiller as hell. 10/10 and I'm out.. poof https://t.co/7E0AiJXPmI\",\n",
       "       'This is a Lofted Aphrodisiac Terrier named Kip. Big fan of bed n breakfasts. Fits perfectly. 10/10 would pet firmly https://t.co/gKlLpNzIl3',\n",
       "       'This is a Tuscaloosa Alcatraz named Jacob (Yacōb). Loves to sit in swing. Stellar tongue. 11/10 look at his feet https://t.co/2IslQ8ZSc7',\n",
       "       \"This is a Helvetica Listerine named Rufus. This time Rufus will be ready for the UPS guy. He'll never expect it 9/10 https://t.co/34OhVhMkVr\",\n",
       "       'This is a Deciduous Trimester mix named Spork. Only 1 ear works. No seat belt. Incredibly reckless. 9/10 still cute https://t.co/CtuJoLHiDo',\n",
       "       \"This is a Rich Mahogany Seltzer named Cherokee. Just got destroyed by a snowball. Isn't very happy about it. 9/10 https://t.co/98ZBi6o4dj\",\n",
       "       \"This is a Speckled Cauliflower Yosemite named Hemry. He's terrified of intruder dog. Not one bit comfortable. 9/10 https://t.co/yV3Qgjh8iN\",\n",
       "       \"This is a spotted Lipitor Rumpelstiltskin named Alphred. He can't wait for the Turkey. 10/10 would pet really well https://t.co/6GUGO7azNX\",\n",
       "       'This is a Coriander Baton Rouge named Alfredo. Loves to cuddle with smaller well-dressed dog. 10/10 would hug lots https://t.co/eCRdwouKCl',\n",
       "       'This is a Slovakian Helter Skelter Feta named Leroi. Likes to skip on roofs. Good traction. Much balance. 10/10 wow! https://t.co/Dmy2mY2Qj5',\n",
       "       'This is an Irish Rigatoni terrier named Berta. Completely made of rope. No eyes. Quite large. Loves to dance. 10/10 https://t.co/EM5fDykrJg',\n",
       "       'This is a Birmingham Quagmire named Chuk. Loves to relax and watch the game while sippin on that iced mocha. 10/10 https://t.co/HvNg9JWxFt',\n",
       "       'This is a Trans Siberian Kellogg named Alfonso. Huge ass eyeballs. Actually Dobby from Harry Potter. 7/10 https://t.co/XpseHBlAAb',\n",
       "       'This is a Shotokon Macadamia mix named Cheryl. Sophisticated af. Looks like a disappointed librarian. Shh (lol) 9/10 https://t.co/J4GnJ5Swba',\n",
       "       'This is a rare Hungarian Pinot named Jessiga. She is either mid-stroke or got stuck in the washing machine. 8/10 https://t.co/ZU0i0KJyqD',\n",
       "       'This is a southwest Coriander named Klint. Hat looks expensive. Still on house arrest :(\\n9/10 https://t.co/IQTOMqDUIe',\n",
       "       'This is a northern Wahoo named Kohl. He runs this town. Chases tumbleweeds. Draws gun wicked fast. 11/10 legendary https://t.co/J4vn2rOYFk',\n",
       "       \"This is a Dasani Kingfisher from Maine. His name is Daryl. Daryl doesn't like being swallowed by a panda. 8/10 https://t.co/jpaeu6LNmW\",\n",
       "       'This is a curly Ticonderoga named Pepe. No feet. Loves to jet ski. 11/10 would hug until forever https://t.co/cyDfaK8NBc',\n",
       "       'This is a purebred Bacardi named Octaviath. Can shoot spaghetti out of mouth. 10/10 https://t.co/uEvsGLOFHa',\n",
       "       'This is a golden Buckminsterfullerene named Johm. Drives trucks. Lumberjack (?). Enjoys wall. 8/10 would hug softly https://t.co/uQbZJM2DQB'],\n",
       "      dtype=object)"
      ]
     },
     "execution_count": 1065,
     "metadata": {},
     "output_type": "execute_result"
    }
   ],
   "source": [
    "# Find all names that are beginning with a lowercase word/character and where there is a word \"named\" or \"name is\"\n",
    "# it's highly likely that we could find a dog name there\n",
    "\n",
    "arch[(arch.name.str.contains('([A-Z][a-z]*)') == False) & (arch.text.str.contains('(name[d]?\\s?i?s?\\s[A-Z]+[a-z]*)') == True)].text.unique()"
   ]
  },
  {
   "cell_type": "code",
   "execution_count": 1066,
   "metadata": {},
   "outputs": [],
   "source": [
    "# Extract the necessary part of the string and replace the part preceding the actual name with nothing\n",
    "arch.loc[arch.text.str.contains('name[d]?\\s?i?s?\\s[A-Z]+[a-z]*'), 'name'] = arch.text.str.extract('(name[d]?\\s?i?s?\\s[A-Z]+[a-z]*)', expand = False).str.replace('(name[d]?\\s?i?s?\\s)',\"\")"
   ]
  },
  {
   "cell_type": "markdown",
   "metadata": {},
   "source": [
    "#### Test"
   ]
  },
  {
   "cell_type": "code",
   "execution_count": 1067,
   "metadata": {
    "collapsed": true
   },
   "outputs": [
    {
     "data": {
      "text/html": [
       "<div>\n",
       "<style scoped>\n",
       "    .dataframe tbody tr th:only-of-type {\n",
       "        vertical-align: middle;\n",
       "    }\n",
       "\n",
       "    .dataframe tbody tr th {\n",
       "        vertical-align: top;\n",
       "    }\n",
       "\n",
       "    .dataframe thead th {\n",
       "        text-align: right;\n",
       "    }\n",
       "</style>\n",
       "<table border=\"1\" class=\"dataframe\">\n",
       "  <thead>\n",
       "    <tr style=\"text-align: right;\">\n",
       "      <th></th>\n",
       "      <th>tweet_id</th>\n",
       "      <th>timestamp</th>\n",
       "      <th>source</th>\n",
       "      <th>text</th>\n",
       "      <th>expanded_urls</th>\n",
       "      <th>rating_numerator</th>\n",
       "      <th>rating_denominator</th>\n",
       "      <th>name</th>\n",
       "      <th>doggo</th>\n",
       "      <th>floofer</th>\n",
       "      <th>pupper</th>\n",
       "      <th>puppo</th>\n",
       "    </tr>\n",
       "  </thead>\n",
       "  <tbody>\n",
       "    <tr>\n",
       "      <td>35</td>\n",
       "      <td>885518971528720385</td>\n",
       "      <td>2017-07-13 15:19:09 +0000</td>\n",
       "      <td>&lt;a href=\"http://twitter.com/download/iphone\" r...</td>\n",
       "      <td>I have a new hero and his name is Howard. 14/1...</td>\n",
       "      <td>https://twitter.com/4bonds2carbon/status/88551...</td>\n",
       "      <td>14</td>\n",
       "      <td>10</td>\n",
       "      <td>Howard</td>\n",
       "      <td>None</td>\n",
       "      <td>None</td>\n",
       "      <td>None</td>\n",
       "      <td>None</td>\n",
       "    </tr>\n",
       "    <tr>\n",
       "      <td>168</td>\n",
       "      <td>859607811541651456</td>\n",
       "      <td>2017-05-03 03:17:27 +0000</td>\n",
       "      <td>&lt;a href=\"http://twitter.com/download/iphone\" r...</td>\n",
       "      <td>Sorry for the lack of posts today. I came home...</td>\n",
       "      <td>https://twitter.com/dog_rates/status/859607811...</td>\n",
       "      <td>13</td>\n",
       "      <td>10</td>\n",
       "      <td>Zoey</td>\n",
       "      <td>None</td>\n",
       "      <td>None</td>\n",
       "      <td>None</td>\n",
       "      <td>puppo</td>\n",
       "    </tr>\n",
       "    <tr>\n",
       "      <td>852</td>\n",
       "      <td>765395769549590528</td>\n",
       "      <td>2016-08-16 03:52:26 +0000</td>\n",
       "      <td>&lt;a href=\"http://twitter.com/download/iphone\" r...</td>\n",
       "      <td>This is my dog. Her name is Zoey. She knows I'...</td>\n",
       "      <td>https://twitter.com/dog_rates/status/765395769...</td>\n",
       "      <td>13</td>\n",
       "      <td>10</td>\n",
       "      <td>Zoey</td>\n",
       "      <td>None</td>\n",
       "      <td>None</td>\n",
       "      <td>None</td>\n",
       "      <td>None</td>\n",
       "    </tr>\n",
       "    <tr>\n",
       "      <td>1678</td>\n",
       "      <td>682047327939461121</td>\n",
       "      <td>2015-12-30 03:55:29 +0000</td>\n",
       "      <td>&lt;a href=\"http://twitter.com/download/iphone\" r...</td>\n",
       "      <td>We normally don't rate bears but this one seem...</td>\n",
       "      <td>https://twitter.com/dog_rates/status/682047327...</td>\n",
       "      <td>10</td>\n",
       "      <td>10</td>\n",
       "      <td>Thea</td>\n",
       "      <td>None</td>\n",
       "      <td>None</td>\n",
       "      <td>None</td>\n",
       "      <td>None</td>\n",
       "    </tr>\n",
       "    <tr>\n",
       "      <td>1734</td>\n",
       "      <td>679736210798047232</td>\n",
       "      <td>2015-12-23 18:51:56 +0000</td>\n",
       "      <td>&lt;a href=\"http://twitter.com/download/iphone\" r...</td>\n",
       "      <td>This pup's name is Sabertooth (parents must be...</td>\n",
       "      <td>https://twitter.com/dog_rates/status/679736210...</td>\n",
       "      <td>9</td>\n",
       "      <td>10</td>\n",
       "      <td>Sabertooth</td>\n",
       "      <td>None</td>\n",
       "      <td>None</td>\n",
       "      <td>None</td>\n",
       "      <td>None</td>\n",
       "    </tr>\n",
       "    <tr>\n",
       "      <td>1853</td>\n",
       "      <td>675706639471788032</td>\n",
       "      <td>2015-12-12 15:59:51 +0000</td>\n",
       "      <td>&lt;a href=\"http://twitter.com/download/iphone\" r...</td>\n",
       "      <td>This is a Sizzlin Menorah spaniel from Brookly...</td>\n",
       "      <td>https://twitter.com/dog_rates/status/675706639...</td>\n",
       "      <td>10</td>\n",
       "      <td>10</td>\n",
       "      <td>Wylie</td>\n",
       "      <td>None</td>\n",
       "      <td>None</td>\n",
       "      <td>None</td>\n",
       "      <td>None</td>\n",
       "    </tr>\n",
       "    <tr>\n",
       "      <td>1955</td>\n",
       "      <td>673636718965334016</td>\n",
       "      <td>2015-12-06 22:54:44 +0000</td>\n",
       "      <td>&lt;a href=\"http://twitter.com/download/iphone\" r...</td>\n",
       "      <td>This is a Lofted Aphrodisiac Terrier named Kip...</td>\n",
       "      <td>https://twitter.com/dog_rates/status/673636718...</td>\n",
       "      <td>10</td>\n",
       "      <td>10</td>\n",
       "      <td>Kip</td>\n",
       "      <td>None</td>\n",
       "      <td>None</td>\n",
       "      <td>None</td>\n",
       "      <td>None</td>\n",
       "    </tr>\n",
       "    <tr>\n",
       "      <td>2034</td>\n",
       "      <td>671743150407421952</td>\n",
       "      <td>2015-12-01 17:30:22 +0000</td>\n",
       "      <td>&lt;a href=\"http://twitter.com/download/iphone\" r...</td>\n",
       "      <td>This is a Tuscaloosa Alcatraz named Jacob (Yac...</td>\n",
       "      <td>https://twitter.com/dog_rates/status/671743150...</td>\n",
       "      <td>11</td>\n",
       "      <td>10</td>\n",
       "      <td>Jacob</td>\n",
       "      <td>None</td>\n",
       "      <td>None</td>\n",
       "      <td>None</td>\n",
       "      <td>None</td>\n",
       "    </tr>\n",
       "    <tr>\n",
       "      <td>2066</td>\n",
       "      <td>671147085991960577</td>\n",
       "      <td>2015-11-30 02:01:49 +0000</td>\n",
       "      <td>&lt;a href=\"http://twitter.com/download/iphone\" r...</td>\n",
       "      <td>This is a Helvetica Listerine named Rufus. Thi...</td>\n",
       "      <td>https://twitter.com/dog_rates/status/671147085...</td>\n",
       "      <td>9</td>\n",
       "      <td>10</td>\n",
       "      <td>Rufus</td>\n",
       "      <td>None</td>\n",
       "      <td>None</td>\n",
       "      <td>None</td>\n",
       "      <td>None</td>\n",
       "    </tr>\n",
       "    <tr>\n",
       "      <td>2116</td>\n",
       "      <td>670427002554466305</td>\n",
       "      <td>2015-11-28 02:20:27 +0000</td>\n",
       "      <td>&lt;a href=\"http://twitter.com/download/iphone\" r...</td>\n",
       "      <td>This is a Deciduous Trimester mix named Spork....</td>\n",
       "      <td>https://twitter.com/dog_rates/status/670427002...</td>\n",
       "      <td>9</td>\n",
       "      <td>10</td>\n",
       "      <td>Spork</td>\n",
       "      <td>None</td>\n",
       "      <td>None</td>\n",
       "      <td>None</td>\n",
       "      <td>None</td>\n",
       "    </tr>\n",
       "    <tr>\n",
       "      <td>2125</td>\n",
       "      <td>670361874861563904</td>\n",
       "      <td>2015-11-27 22:01:40 +0000</td>\n",
       "      <td>&lt;a href=\"http://twitter.com/download/iphone\" r...</td>\n",
       "      <td>This is a Rich Mahogany Seltzer named Cherokee...</td>\n",
       "      <td>https://twitter.com/dog_rates/status/670361874...</td>\n",
       "      <td>9</td>\n",
       "      <td>10</td>\n",
       "      <td>Cherokee</td>\n",
       "      <td>None</td>\n",
       "      <td>None</td>\n",
       "      <td>None</td>\n",
       "      <td>None</td>\n",
       "    </tr>\n",
       "    <tr>\n",
       "      <td>2128</td>\n",
       "      <td>670303360680108032</td>\n",
       "      <td>2015-11-27 18:09:09 +0000</td>\n",
       "      <td>&lt;a href=\"http://twitter.com/download/iphone\" r...</td>\n",
       "      <td>This is a Speckled Cauliflower Yosemite named ...</td>\n",
       "      <td>https://twitter.com/dog_rates/status/670303360...</td>\n",
       "      <td>9</td>\n",
       "      <td>10</td>\n",
       "      <td>Hemry</td>\n",
       "      <td>None</td>\n",
       "      <td>None</td>\n",
       "      <td>None</td>\n",
       "      <td>None</td>\n",
       "    </tr>\n",
       "    <tr>\n",
       "      <td>2146</td>\n",
       "      <td>669923323644657664</td>\n",
       "      <td>2015-11-26 16:59:01 +0000</td>\n",
       "      <td>&lt;a href=\"http://twitter.com/download/iphone\" r...</td>\n",
       "      <td>This is a spotted Lipitor Rumpelstiltskin name...</td>\n",
       "      <td>https://twitter.com/dog_rates/status/669923323...</td>\n",
       "      <td>10</td>\n",
       "      <td>10</td>\n",
       "      <td>Alphred</td>\n",
       "      <td>None</td>\n",
       "      <td>None</td>\n",
       "      <td>None</td>\n",
       "      <td>None</td>\n",
       "    </tr>\n",
       "    <tr>\n",
       "      <td>2161</td>\n",
       "      <td>669564461267722241</td>\n",
       "      <td>2015-11-25 17:13:02 +0000</td>\n",
       "      <td>&lt;a href=\"http://twitter.com/download/iphone\" r...</td>\n",
       "      <td>This is a Coriander Baton Rouge named Alfredo....</td>\n",
       "      <td>https://twitter.com/dog_rates/status/669564461...</td>\n",
       "      <td>10</td>\n",
       "      <td>10</td>\n",
       "      <td>Alfredo</td>\n",
       "      <td>None</td>\n",
       "      <td>None</td>\n",
       "      <td>None</td>\n",
       "      <td>None</td>\n",
       "    </tr>\n",
       "    <tr>\n",
       "      <td>2166</td>\n",
       "      <td>669363888236994561</td>\n",
       "      <td>2015-11-25 03:56:01 +0000</td>\n",
       "      <td>&lt;a href=\"http://twitter.com/download/iphone\" r...</td>\n",
       "      <td>Here we have a Gingivitis Pumpernickel named Z...</td>\n",
       "      <td>https://twitter.com/dog_rates/status/669363888...</td>\n",
       "      <td>10</td>\n",
       "      <td>10</td>\n",
       "      <td>Zeus</td>\n",
       "      <td>None</td>\n",
       "      <td>None</td>\n",
       "      <td>None</td>\n",
       "      <td>None</td>\n",
       "    </tr>\n",
       "    <tr>\n",
       "      <td>2191</td>\n",
       "      <td>668955713004314625</td>\n",
       "      <td>2015-11-24 00:54:05 +0000</td>\n",
       "      <td>&lt;a href=\"http://twitter.com/download/iphone\" r...</td>\n",
       "      <td>This is a Slovakian Helter Skelter Feta named ...</td>\n",
       "      <td>https://twitter.com/dog_rates/status/668955713...</td>\n",
       "      <td>10</td>\n",
       "      <td>10</td>\n",
       "      <td>Leroi</td>\n",
       "      <td>None</td>\n",
       "      <td>None</td>\n",
       "      <td>None</td>\n",
       "      <td>None</td>\n",
       "    </tr>\n",
       "    <tr>\n",
       "      <td>2204</td>\n",
       "      <td>668636665813057536</td>\n",
       "      <td>2015-11-23 03:46:18 +0000</td>\n",
       "      <td>&lt;a href=\"http://twitter.com/download/iphone\" r...</td>\n",
       "      <td>This is an Irish Rigatoni terrier named Berta....</td>\n",
       "      <td>https://twitter.com/dog_rates/status/668636665...</td>\n",
       "      <td>10</td>\n",
       "      <td>10</td>\n",
       "      <td>Berta</td>\n",
       "      <td>None</td>\n",
       "      <td>None</td>\n",
       "      <td>None</td>\n",
       "      <td>None</td>\n",
       "    </tr>\n",
       "    <tr>\n",
       "      <td>2218</td>\n",
       "      <td>668507509523615744</td>\n",
       "      <td>2015-11-22 19:13:05 +0000</td>\n",
       "      <td>&lt;a href=\"http://twitter.com/download/iphone\" r...</td>\n",
       "      <td>This is a Birmingham Quagmire named Chuk. Love...</td>\n",
       "      <td>https://twitter.com/dog_rates/status/668507509...</td>\n",
       "      <td>10</td>\n",
       "      <td>10</td>\n",
       "      <td>Chuk</td>\n",
       "      <td>None</td>\n",
       "      <td>None</td>\n",
       "      <td>None</td>\n",
       "      <td>None</td>\n",
       "    </tr>\n",
       "    <tr>\n",
       "      <td>2227</td>\n",
       "      <td>668268907921326080</td>\n",
       "      <td>2015-11-22 03:24:58 +0000</td>\n",
       "      <td>&lt;a href=\"http://twitter.com/download/iphone\" r...</td>\n",
       "      <td>Here we have an Azerbaijani Buttermilk named G...</td>\n",
       "      <td>https://twitter.com/dog_rates/status/668268907...</td>\n",
       "      <td>10</td>\n",
       "      <td>10</td>\n",
       "      <td>Guss</td>\n",
       "      <td>None</td>\n",
       "      <td>None</td>\n",
       "      <td>None</td>\n",
       "      <td>None</td>\n",
       "    </tr>\n",
       "    <tr>\n",
       "      <td>2235</td>\n",
       "      <td>668171859951755264</td>\n",
       "      <td>2015-11-21 20:59:20 +0000</td>\n",
       "      <td>&lt;a href=\"http://twitter.com/download/iphone\" r...</td>\n",
       "      <td>This is a Trans Siberian Kellogg named Alfonso...</td>\n",
       "      <td>https://twitter.com/dog_rates/status/668171859...</td>\n",
       "      <td>7</td>\n",
       "      <td>10</td>\n",
       "      <td>Alfonso</td>\n",
       "      <td>None</td>\n",
       "      <td>None</td>\n",
       "      <td>None</td>\n",
       "      <td>None</td>\n",
       "    </tr>\n",
       "    <tr>\n",
       "      <td>2249</td>\n",
       "      <td>667861340749471744</td>\n",
       "      <td>2015-11-21 00:25:26 +0000</td>\n",
       "      <td>&lt;a href=\"http://twitter.com/download/iphone\" r...</td>\n",
       "      <td>This is a Shotokon Macadamia mix named Cheryl....</td>\n",
       "      <td>https://twitter.com/dog_rates/status/667861340...</td>\n",
       "      <td>9</td>\n",
       "      <td>10</td>\n",
       "      <td>Cheryl</td>\n",
       "      <td>None</td>\n",
       "      <td>None</td>\n",
       "      <td>None</td>\n",
       "      <td>None</td>\n",
       "    </tr>\n",
       "    <tr>\n",
       "      <td>2255</td>\n",
       "      <td>667773195014021121</td>\n",
       "      <td>2015-11-20 18:35:10 +0000</td>\n",
       "      <td>&lt;a href=\"http://twitter.com\" rel=\"nofollow\"&gt;Tw...</td>\n",
       "      <td>This is a rare Hungarian Pinot named Jessiga. ...</td>\n",
       "      <td>https://twitter.com/dog_rates/status/667773195...</td>\n",
       "      <td>8</td>\n",
       "      <td>10</td>\n",
       "      <td>Jessiga</td>\n",
       "      <td>None</td>\n",
       "      <td>None</td>\n",
       "      <td>None</td>\n",
       "      <td>None</td>\n",
       "    </tr>\n",
       "    <tr>\n",
       "      <td>2264</td>\n",
       "      <td>667538891197542400</td>\n",
       "      <td>2015-11-20 03:04:08 +0000</td>\n",
       "      <td>&lt;a href=\"http://twitter.com\" rel=\"nofollow\"&gt;Tw...</td>\n",
       "      <td>This is a southwest Coriander named Klint. Hat...</td>\n",
       "      <td>https://twitter.com/dog_rates/status/667538891...</td>\n",
       "      <td>9</td>\n",
       "      <td>10</td>\n",
       "      <td>Klint</td>\n",
       "      <td>None</td>\n",
       "      <td>None</td>\n",
       "      <td>None</td>\n",
       "      <td>None</td>\n",
       "    </tr>\n",
       "    <tr>\n",
       "      <td>2267</td>\n",
       "      <td>667524857454854144</td>\n",
       "      <td>2015-11-20 02:08:22 +0000</td>\n",
       "      <td>&lt;a href=\"http://twitter.com\" rel=\"nofollow\"&gt;Tw...</td>\n",
       "      <td>Another topnotch dog. His name is Big Jumpy Ra...</td>\n",
       "      <td>https://twitter.com/dog_rates/status/667524857...</td>\n",
       "      <td>12</td>\n",
       "      <td>10</td>\n",
       "      <td>Big</td>\n",
       "      <td>None</td>\n",
       "      <td>None</td>\n",
       "      <td>None</td>\n",
       "      <td>None</td>\n",
       "    </tr>\n",
       "    <tr>\n",
       "      <td>2269</td>\n",
       "      <td>667509364010450944</td>\n",
       "      <td>2015-11-20 01:06:48 +0000</td>\n",
       "      <td>&lt;a href=\"http://twitter.com\" rel=\"nofollow\"&gt;Tw...</td>\n",
       "      <td>This a Norwegian Pewterschmidt named Tickles. ...</td>\n",
       "      <td>https://twitter.com/dog_rates/status/667509364...</td>\n",
       "      <td>12</td>\n",
       "      <td>10</td>\n",
       "      <td>Tickles</td>\n",
       "      <td>None</td>\n",
       "      <td>None</td>\n",
       "      <td>None</td>\n",
       "      <td>None</td>\n",
       "    </tr>\n",
       "    <tr>\n",
       "      <td>2273</td>\n",
       "      <td>667470559035432960</td>\n",
       "      <td>2015-11-19 22:32:36 +0000</td>\n",
       "      <td>&lt;a href=\"http://twitter.com\" rel=\"nofollow\"&gt;Tw...</td>\n",
       "      <td>This is a northern Wahoo named Kohl. He runs t...</td>\n",
       "      <td>https://twitter.com/dog_rates/status/667470559...</td>\n",
       "      <td>11</td>\n",
       "      <td>10</td>\n",
       "      <td>Kohl</td>\n",
       "      <td>None</td>\n",
       "      <td>None</td>\n",
       "      <td>None</td>\n",
       "      <td>None</td>\n",
       "    </tr>\n",
       "    <tr>\n",
       "      <td>2287</td>\n",
       "      <td>667177989038297088</td>\n",
       "      <td>2015-11-19 03:10:02 +0000</td>\n",
       "      <td>&lt;a href=\"http://twitter.com/download/iphone\" r...</td>\n",
       "      <td>This is a Dasani Kingfisher from Maine. His na...</td>\n",
       "      <td>https://twitter.com/dog_rates/status/667177989...</td>\n",
       "      <td>8</td>\n",
       "      <td>10</td>\n",
       "      <td>Daryl</td>\n",
       "      <td>None</td>\n",
       "      <td>None</td>\n",
       "      <td>None</td>\n",
       "      <td>None</td>\n",
       "    </tr>\n",
       "    <tr>\n",
       "      <td>2304</td>\n",
       "      <td>666983947667116034</td>\n",
       "      <td>2015-11-18 14:18:59 +0000</td>\n",
       "      <td>&lt;a href=\"http://twitter.com/download/iphone\" r...</td>\n",
       "      <td>This is a curly Ticonderoga named Pepe. No fee...</td>\n",
       "      <td>https://twitter.com/dog_rates/status/666983947...</td>\n",
       "      <td>11</td>\n",
       "      <td>10</td>\n",
       "      <td>Pepe</td>\n",
       "      <td>None</td>\n",
       "      <td>None</td>\n",
       "      <td>None</td>\n",
       "      <td>None</td>\n",
       "    </tr>\n",
       "    <tr>\n",
       "      <td>2311</td>\n",
       "      <td>666781792255496192</td>\n",
       "      <td>2015-11-18 00:55:42 +0000</td>\n",
       "      <td>&lt;a href=\"http://twitter.com/download/iphone\" r...</td>\n",
       "      <td>This is a purebred Bacardi named Octaviath. Ca...</td>\n",
       "      <td>https://twitter.com/dog_rates/status/666781792...</td>\n",
       "      <td>10</td>\n",
       "      <td>10</td>\n",
       "      <td>Octaviath</td>\n",
       "      <td>None</td>\n",
       "      <td>None</td>\n",
       "      <td>None</td>\n",
       "      <td>None</td>\n",
       "    </tr>\n",
       "    <tr>\n",
       "      <td>2313</td>\n",
       "      <td>666739327293083650</td>\n",
       "      <td>2015-11-17 22:06:57 +0000</td>\n",
       "      <td>&lt;a href=\"http://twitter.com/download/iphone\" r...</td>\n",
       "      <td>This is Lugan. He is a Bohemian Rhapsody. Very...</td>\n",
       "      <td>https://twitter.com/dog_rates/status/666739327...</td>\n",
       "      <td>10</td>\n",
       "      <td>10</td>\n",
       "      <td>Rocky</td>\n",
       "      <td>None</td>\n",
       "      <td>None</td>\n",
       "      <td>None</td>\n",
       "      <td>None</td>\n",
       "    </tr>\n",
       "    <tr>\n",
       "      <td>2314</td>\n",
       "      <td>666701168228331520</td>\n",
       "      <td>2015-11-17 19:35:19 +0000</td>\n",
       "      <td>&lt;a href=\"http://twitter.com/download/iphone\" r...</td>\n",
       "      <td>This is a golden Buckminsterfullerene named Jo...</td>\n",
       "      <td>https://twitter.com/dog_rates/status/666701168...</td>\n",
       "      <td>8</td>\n",
       "      <td>10</td>\n",
       "      <td>Johm</td>\n",
       "      <td>None</td>\n",
       "      <td>None</td>\n",
       "      <td>None</td>\n",
       "      <td>None</td>\n",
       "    </tr>\n",
       "  </tbody>\n",
       "</table>\n",
       "</div>"
      ],
      "text/plain": [
       "                tweet_id                  timestamp  \\\n",
       "35    885518971528720385  2017-07-13 15:19:09 +0000   \n",
       "168   859607811541651456  2017-05-03 03:17:27 +0000   \n",
       "852   765395769549590528  2016-08-16 03:52:26 +0000   \n",
       "1678  682047327939461121  2015-12-30 03:55:29 +0000   \n",
       "1734  679736210798047232  2015-12-23 18:51:56 +0000   \n",
       "1853  675706639471788032  2015-12-12 15:59:51 +0000   \n",
       "1955  673636718965334016  2015-12-06 22:54:44 +0000   \n",
       "2034  671743150407421952  2015-12-01 17:30:22 +0000   \n",
       "2066  671147085991960577  2015-11-30 02:01:49 +0000   \n",
       "2116  670427002554466305  2015-11-28 02:20:27 +0000   \n",
       "2125  670361874861563904  2015-11-27 22:01:40 +0000   \n",
       "2128  670303360680108032  2015-11-27 18:09:09 +0000   \n",
       "2146  669923323644657664  2015-11-26 16:59:01 +0000   \n",
       "2161  669564461267722241  2015-11-25 17:13:02 +0000   \n",
       "2166  669363888236994561  2015-11-25 03:56:01 +0000   \n",
       "2191  668955713004314625  2015-11-24 00:54:05 +0000   \n",
       "2204  668636665813057536  2015-11-23 03:46:18 +0000   \n",
       "2218  668507509523615744  2015-11-22 19:13:05 +0000   \n",
       "2227  668268907921326080  2015-11-22 03:24:58 +0000   \n",
       "2235  668171859951755264  2015-11-21 20:59:20 +0000   \n",
       "2249  667861340749471744  2015-11-21 00:25:26 +0000   \n",
       "2255  667773195014021121  2015-11-20 18:35:10 +0000   \n",
       "2264  667538891197542400  2015-11-20 03:04:08 +0000   \n",
       "2267  667524857454854144  2015-11-20 02:08:22 +0000   \n",
       "2269  667509364010450944  2015-11-20 01:06:48 +0000   \n",
       "2273  667470559035432960  2015-11-19 22:32:36 +0000   \n",
       "2287  667177989038297088  2015-11-19 03:10:02 +0000   \n",
       "2304  666983947667116034  2015-11-18 14:18:59 +0000   \n",
       "2311  666781792255496192  2015-11-18 00:55:42 +0000   \n",
       "2313  666739327293083650  2015-11-17 22:06:57 +0000   \n",
       "2314  666701168228331520  2015-11-17 19:35:19 +0000   \n",
       "\n",
       "                                                 source  \\\n",
       "35    <a href=\"http://twitter.com/download/iphone\" r...   \n",
       "168   <a href=\"http://twitter.com/download/iphone\" r...   \n",
       "852   <a href=\"http://twitter.com/download/iphone\" r...   \n",
       "1678  <a href=\"http://twitter.com/download/iphone\" r...   \n",
       "1734  <a href=\"http://twitter.com/download/iphone\" r...   \n",
       "1853  <a href=\"http://twitter.com/download/iphone\" r...   \n",
       "1955  <a href=\"http://twitter.com/download/iphone\" r...   \n",
       "2034  <a href=\"http://twitter.com/download/iphone\" r...   \n",
       "2066  <a href=\"http://twitter.com/download/iphone\" r...   \n",
       "2116  <a href=\"http://twitter.com/download/iphone\" r...   \n",
       "2125  <a href=\"http://twitter.com/download/iphone\" r...   \n",
       "2128  <a href=\"http://twitter.com/download/iphone\" r...   \n",
       "2146  <a href=\"http://twitter.com/download/iphone\" r...   \n",
       "2161  <a href=\"http://twitter.com/download/iphone\" r...   \n",
       "2166  <a href=\"http://twitter.com/download/iphone\" r...   \n",
       "2191  <a href=\"http://twitter.com/download/iphone\" r...   \n",
       "2204  <a href=\"http://twitter.com/download/iphone\" r...   \n",
       "2218  <a href=\"http://twitter.com/download/iphone\" r...   \n",
       "2227  <a href=\"http://twitter.com/download/iphone\" r...   \n",
       "2235  <a href=\"http://twitter.com/download/iphone\" r...   \n",
       "2249  <a href=\"http://twitter.com/download/iphone\" r...   \n",
       "2255  <a href=\"http://twitter.com\" rel=\"nofollow\">Tw...   \n",
       "2264  <a href=\"http://twitter.com\" rel=\"nofollow\">Tw...   \n",
       "2267  <a href=\"http://twitter.com\" rel=\"nofollow\">Tw...   \n",
       "2269  <a href=\"http://twitter.com\" rel=\"nofollow\">Tw...   \n",
       "2273  <a href=\"http://twitter.com\" rel=\"nofollow\">Tw...   \n",
       "2287  <a href=\"http://twitter.com/download/iphone\" r...   \n",
       "2304  <a href=\"http://twitter.com/download/iphone\" r...   \n",
       "2311  <a href=\"http://twitter.com/download/iphone\" r...   \n",
       "2313  <a href=\"http://twitter.com/download/iphone\" r...   \n",
       "2314  <a href=\"http://twitter.com/download/iphone\" r...   \n",
       "\n",
       "                                                   text  \\\n",
       "35    I have a new hero and his name is Howard. 14/1...   \n",
       "168   Sorry for the lack of posts today. I came home...   \n",
       "852   This is my dog. Her name is Zoey. She knows I'...   \n",
       "1678  We normally don't rate bears but this one seem...   \n",
       "1734  This pup's name is Sabertooth (parents must be...   \n",
       "1853  This is a Sizzlin Menorah spaniel from Brookly...   \n",
       "1955  This is a Lofted Aphrodisiac Terrier named Kip...   \n",
       "2034  This is a Tuscaloosa Alcatraz named Jacob (Yac...   \n",
       "2066  This is a Helvetica Listerine named Rufus. Thi...   \n",
       "2116  This is a Deciduous Trimester mix named Spork....   \n",
       "2125  This is a Rich Mahogany Seltzer named Cherokee...   \n",
       "2128  This is a Speckled Cauliflower Yosemite named ...   \n",
       "2146  This is a spotted Lipitor Rumpelstiltskin name...   \n",
       "2161  This is a Coriander Baton Rouge named Alfredo....   \n",
       "2166  Here we have a Gingivitis Pumpernickel named Z...   \n",
       "2191  This is a Slovakian Helter Skelter Feta named ...   \n",
       "2204  This is an Irish Rigatoni terrier named Berta....   \n",
       "2218  This is a Birmingham Quagmire named Chuk. Love...   \n",
       "2227  Here we have an Azerbaijani Buttermilk named G...   \n",
       "2235  This is a Trans Siberian Kellogg named Alfonso...   \n",
       "2249  This is a Shotokon Macadamia mix named Cheryl....   \n",
       "2255  This is a rare Hungarian Pinot named Jessiga. ...   \n",
       "2264  This is a southwest Coriander named Klint. Hat...   \n",
       "2267  Another topnotch dog. His name is Big Jumpy Ra...   \n",
       "2269  This a Norwegian Pewterschmidt named Tickles. ...   \n",
       "2273  This is a northern Wahoo named Kohl. He runs t...   \n",
       "2287  This is a Dasani Kingfisher from Maine. His na...   \n",
       "2304  This is a curly Ticonderoga named Pepe. No fee...   \n",
       "2311  This is a purebred Bacardi named Octaviath. Ca...   \n",
       "2313  This is Lugan. He is a Bohemian Rhapsody. Very...   \n",
       "2314  This is a golden Buckminsterfullerene named Jo...   \n",
       "\n",
       "                                          expanded_urls  rating_numerator  \\\n",
       "35    https://twitter.com/4bonds2carbon/status/88551...                14   \n",
       "168   https://twitter.com/dog_rates/status/859607811...                13   \n",
       "852   https://twitter.com/dog_rates/status/765395769...                13   \n",
       "1678  https://twitter.com/dog_rates/status/682047327...                10   \n",
       "1734  https://twitter.com/dog_rates/status/679736210...                 9   \n",
       "1853  https://twitter.com/dog_rates/status/675706639...                10   \n",
       "1955  https://twitter.com/dog_rates/status/673636718...                10   \n",
       "2034  https://twitter.com/dog_rates/status/671743150...                11   \n",
       "2066  https://twitter.com/dog_rates/status/671147085...                 9   \n",
       "2116  https://twitter.com/dog_rates/status/670427002...                 9   \n",
       "2125  https://twitter.com/dog_rates/status/670361874...                 9   \n",
       "2128  https://twitter.com/dog_rates/status/670303360...                 9   \n",
       "2146  https://twitter.com/dog_rates/status/669923323...                10   \n",
       "2161  https://twitter.com/dog_rates/status/669564461...                10   \n",
       "2166  https://twitter.com/dog_rates/status/669363888...                10   \n",
       "2191  https://twitter.com/dog_rates/status/668955713...                10   \n",
       "2204  https://twitter.com/dog_rates/status/668636665...                10   \n",
       "2218  https://twitter.com/dog_rates/status/668507509...                10   \n",
       "2227  https://twitter.com/dog_rates/status/668268907...                10   \n",
       "2235  https://twitter.com/dog_rates/status/668171859...                 7   \n",
       "2249  https://twitter.com/dog_rates/status/667861340...                 9   \n",
       "2255  https://twitter.com/dog_rates/status/667773195...                 8   \n",
       "2264  https://twitter.com/dog_rates/status/667538891...                 9   \n",
       "2267  https://twitter.com/dog_rates/status/667524857...                12   \n",
       "2269  https://twitter.com/dog_rates/status/667509364...                12   \n",
       "2273  https://twitter.com/dog_rates/status/667470559...                11   \n",
       "2287  https://twitter.com/dog_rates/status/667177989...                 8   \n",
       "2304  https://twitter.com/dog_rates/status/666983947...                11   \n",
       "2311  https://twitter.com/dog_rates/status/666781792...                10   \n",
       "2313  https://twitter.com/dog_rates/status/666739327...                10   \n",
       "2314  https://twitter.com/dog_rates/status/666701168...                 8   \n",
       "\n",
       "      rating_denominator        name doggo floofer pupper  puppo  \n",
       "35                    10      Howard  None    None   None   None  \n",
       "168                   10        Zoey  None    None   None  puppo  \n",
       "852                   10        Zoey  None    None   None   None  \n",
       "1678                  10        Thea  None    None   None   None  \n",
       "1734                  10  Sabertooth  None    None   None   None  \n",
       "1853                  10       Wylie  None    None   None   None  \n",
       "1955                  10         Kip  None    None   None   None  \n",
       "2034                  10       Jacob  None    None   None   None  \n",
       "2066                  10       Rufus  None    None   None   None  \n",
       "2116                  10       Spork  None    None   None   None  \n",
       "2125                  10    Cherokee  None    None   None   None  \n",
       "2128                  10       Hemry  None    None   None   None  \n",
       "2146                  10     Alphred  None    None   None   None  \n",
       "2161                  10     Alfredo  None    None   None   None  \n",
       "2166                  10        Zeus  None    None   None   None  \n",
       "2191                  10       Leroi  None    None   None   None  \n",
       "2204                  10       Berta  None    None   None   None  \n",
       "2218                  10        Chuk  None    None   None   None  \n",
       "2227                  10        Guss  None    None   None   None  \n",
       "2235                  10     Alfonso  None    None   None   None  \n",
       "2249                  10      Cheryl  None    None   None   None  \n",
       "2255                  10     Jessiga  None    None   None   None  \n",
       "2264                  10       Klint  None    None   None   None  \n",
       "2267                  10         Big  None    None   None   None  \n",
       "2269                  10     Tickles  None    None   None   None  \n",
       "2273                  10        Kohl  None    None   None   None  \n",
       "2287                  10       Daryl  None    None   None   None  \n",
       "2304                  10        Pepe  None    None   None   None  \n",
       "2311                  10   Octaviath  None    None   None   None  \n",
       "2313                  10       Rocky  None    None   None   None  \n",
       "2314                  10        Johm  None    None   None   None  "
      ]
     },
     "execution_count": 1067,
     "metadata": {},
     "output_type": "execute_result"
    }
   ],
   "source": [
    "# Check\n",
    "arch[arch.text.str.contains('name[d]?\\s?i?s?\\s[A-Z]+[a-z]*')]"
   ]
  },
  {
   "cell_type": "code",
   "execution_count": 1068,
   "metadata": {
    "scrolled": true
   },
   "outputs": [
    {
     "data": {
      "text/plain": [
       "array([\"I've yet to rate a Venezuelan Hover Wiener. This is such an honor. 14/10 paw-inspiring af (IG: roxy.thedoxy) https://t.co/20VrLAA8ba\",\n",
       "       'Here is a pupper approaching maximum borkdrive. Zooming at never before seen speeds. 14/10 paw-inspiring af \\n(IG: puffie_the_chow) https://t.co/ghXBIIeQZF',\n",
       "       \"There's going to be a dog terminal at JFK Airport. This is not a drill. 10/10  \\nhttps://t.co/dp5h9bCwU7\",\n",
       "       \"Occasionally, we're sent fantastic stories. This is one of them. 14/10 for Grace https://t.co/bZ4axuH6OK\",\n",
       "       'Here is a perfect example of someone who has their priorities in order. 13/10 for both owner and Forrest https://t.co/LRyMrU7Wfq',\n",
       "       \"This is one of the most inspirational stories I've ever come across. I have no words. 14/10 for both doggo and owner https://t.co/I5ld3eKD5k\",\n",
       "       'What jokester sent in a pic without a dog in it? This is not @rock_rates. This is @dog_rates. Thank you ...10/10 https://t.co/nDPaYHrtNX',\n",
       "       'That is Quizno. This is his beach. He does not tolerate human shenanigans on his beach. 10/10 reclaim ur land doggo https://t.co/vdr7DaRSa7',\n",
       "       \"This is one of the most reckless puppers I've ever seen. How she got a license in the first place is beyond me. 6/10 https://t.co/z5bAdtn9kd\",\n",
       "       'This is a mighty rare blue-tailed hammer sherk. Human almost lost a limb trying to take these. Be careful guys. 8/10 https://t.co/TGenMeXreW',\n",
       "       'Viewer discretion is advised. This is a terrible attack in progress. Not even in water (tragic af). 4/10 bad sherk https://t.co/L3U0j14N5R',\n",
       "       \"This is actually a pupper and I'd pet it so well. 12/10\\nhttps://t.co/RNqS7C4Y4N\",\n",
       "       'This is a very rare Great Alaskan Bush Pupper. Hard to stumble upon without spooking. 12/10 would pet passionately https://t.co/xOBKCdpzaa',\n",
       "       'This is just downright precious af. 12/10 for both pupper and doggo https://t.co/o5J479bZUC',\n",
       "       'Say hello to mad pupper. You know what you did. 13/10 would pet until no longer furustrated https://t.co/u1ulQ5heLX',\n",
       "       'Say hello to this unbelievably well behaved squad of doggos. 204/170 would try to pet all at once https://t.co/yGQI3He3xv',\n",
       "       'This is all I want in my life. 12/10 for super sleepy pupper https://t.co/4RlLA5ObMh',\n",
       "       \"This is old now but it's absolutely heckin fantastic and I can't not share it with you all. 13/10  https://t.co/wJX74TSgzP\",\n",
       "       'Here is a heartbreaking scene of an incredible pupper being laid to rest. 10/10 RIP pupper https://t.co/81mvJ0rGRu',\n",
       "       \"Here is a whole flock of puppers.  60/50 I'll take the lot https://t.co/9dpcw6MdWa\",\n",
       "       \"This is a Butternut Cumberfloof. It's not windy they just look like that. 11/10 back at it again with the red socks https://t.co/hMjzhdUHaW\",\n",
       "       'This is a Wild Tuscan Poofwiggle. Careful not to startle. Rare tongue slip. One eye magical. 12/10 would def pet https://t.co/4EnShAQjv6',\n",
       "       '\"Pupper is a present to world. Here is a bow for pupper.\" 12/10 precious as hell https://t.co/ItSsE92gCW',\n",
       "       'This is just a beautiful pupper good shit evolution. 12/10 https://t.co/2L8pI0Z2Ib',\n",
       "       'This is a rare Arctic Wubberfloof. Unamused by the happenings. No longer has the appetites. 12/10 would totally hug https://t.co/krvbacIX0N',\n",
       "       \"This is the newly formed pupper a capella group. They're just starting out but I see tons of potential. 8/10 for all https://t.co/wbAcvFoNtn\",\n",
       "       'This is by far the most coordinated series of pictures I was sent. Downright impressive in every way. 12/10 for all https://t.co/etzLo3sdZE',\n",
       "       'This is officially the greatest yawn of all time. 12/10 https://t.co/4R0Cc0sLVE',\n",
       "       'This is a dog swinging. I really enjoyed it so I hope you all do as well. 11/10 https://t.co/Ozo9KHTRND',\n",
       "       \"This is the happiest pupper I've ever seen. 10/10 would trade lives with https://t.co/ep8ATEJwRb\",\n",
       "       \"This is the saddest/sweetest/best picture I've been sent. 12/10 😢🐶 https://t.co/vQ2Lw1BLBF\",\n",
       "       'This is a fluffy albino Bacardi Columbia mix. Excellent at the tweets. 11/10 would hug gently https://t.co/diboDRUuEI',\n",
       "       'This is life-changing. 12/10 https://t.co/SroTpI6psB',\n",
       "       'This is a Sagitariot Baklava mix. Loves her new hat. 11/10 radiant pup https://t.co/Bko5kFJYUU',\n",
       "       'This is one esteemed pupper. Just graduated college. 10/10 what a champ https://t.co/nyReCVRiyd',\n",
       "       'This is a heavily opinionated dog. Loves walls. Nobody knows how the hair works. Always ready for a kiss. 4/10 https://t.co/dFiaKZ9cDl',\n",
       "       'This is a baby Rand Paul. Curls for days. 11/10 would cuddle the hell out of https://t.co/xHXNaPAYRe',\n",
       "       'This is light saber pup. Ready to fight off evil with light saber. 10/10 true hero https://t.co/LPPa3btIIt',\n",
       "       'This is just impressive I have nothing else to say. 11/10 https://t.co/LquQZiZjJP',\n",
       "       \"This is space pup. He's very confused. Tries to moonwalk at one point. Super spiffy uniform. 13/10 I love space pup https://t.co/SfPQ2KeLdq\",\n",
       "       \"This is the best thing I've ever seen so spread it like wildfire &amp; maybe we'll find the genius who created it. 13/10 https://t.co/q6RsuOVYwU\",\n",
       "       \"This is a brave dog. Excellent free climber. Trying to get closer to God. Not very loyal though. Doesn't bark. 5/10 https://t.co/ODnILTr4QM\",\n",
       "       'This is a wild Toblerone from Papua New Guinea. Mouth always open. Addicted to hay. Acts blind. 7/10 handsome dog https://t.co/IGmVbz07tZ',\n",
       "       'Here is a horned dog. Much grace. Can jump over moons (dam!). Paws not soft. Bad at barking. 7/10 can still pet tho https://t.co/2Su7gmsnZm',\n",
       "       'Never forget this vine. You will not stop watching for at least 15 minutes. This is the second coveted.. 13/10 https://t.co/roqIxCvEB3',\n",
       "       \"Here is a mother dog caring for her pups. Snazzy red mohawk. Doesn't wag tail. Pups look confused. Overall 4/10 https://t.co/YOHe6lf09m\",\n",
       "       \"This is quite the dog. Gets really excited when not in water. Not very soft tho. Bad at fetch. Can't do tricks. 2/10 https://t.co/aMCTNWO94t\",\n",
       "       'This is a southern Vesuvius bumblegruff. Can drive a truck (wow). Made friends with 5 other nifty dogs (neat). 7/10 https://t.co/LopTBkKa8h',\n",
       "       'This is an extremely rare horned Parthenon. Not amused. Wears shoes. Overall very nice. 9/10 would pet aggressively https://t.co/QpRjllzWAL',\n",
       "       \"This is a funny dog. Weird toes. Won't come down. Loves branch. Refuses to eat his food. Hard to cuddle with. 3/10 https://t.co/IIXis0zta0\",\n",
       "       'This is an Albanian 3 1/2 legged  Episcopalian. Loves well-polished hardwood flooring. Penis on the collar. 9/10 https://t.co/d9NcXFKwLv',\n",
       "       'This is the happiest dog you will ever see. Very committed owner. Nice couch. 10/10 https://t.co/RhUEAloehK',\n",
       "       \"Here is the Rand Paul of retrievers folks! He's probably good at poker. Can drink beer (lol rad). 8/10 good dog https://t.co/pYAJkAe76p\",\n",
       "       'My oh my. This is a rare blond Canadian terrier on wheels. Only $8.98. Rather docile. 9/10 very rare https://t.co/yWBqbrzy8O',\n",
       "       'Here is a Siberian heavily armored polar bear mix. Strong owner. 10/10 I would do unspeakable things to pet this dog https://t.co/rdivxLiqEt',\n",
       "       \"This is an odd dog. Hard on the outside but loving on the inside. Petting still fun. Doesn't play catch well. 2/10 https://t.co/v5A4vzSDdc\",\n",
       "       'This is a truly beautiful English Wilson Staff retriever. Has a nice phone. Privileged. 10/10 would trade lives with https://t.co/fvIbQfHjIe',\n",
       "       'This is a purebred Piers Morgan. Loves to Netflix and chill. Always looks like he forgot to unplug the iron. 6/10 https://t.co/DWnyCjf2mx',\n",
       "       'Here is a very happy pup. Big fan of well-maintained decks. Just look at that tongue. 9/10 would cuddle af https://t.co/y671yMhoiR',\n",
       "       'This is a western brown Mitsubishi terrier. Upset about leaf. Actually 2 dogs here. 7/10 would walk the shit out of https://t.co/r7mOb2m0UI'],\n",
       "      dtype=object)"
      ]
     },
     "execution_count": 1068,
     "metadata": {},
     "output_type": "execute_result"
    }
   ],
   "source": [
    "arch[(arch.name.str.contains('([A-Z][a-z]*)') == False)].text.unique()"
   ]
  },
  {
   "cell_type": "markdown",
   "metadata": {},
   "source": [
    "#### Code (2)\n",
    "Several of these dogs have their names deeply hidden in the tweets, so I will extract them manually."
   ]
  },
  {
   "cell_type": "code",
   "execution_count": 1081,
   "metadata": {},
   "outputs": [],
   "source": [
    "# Let's take care of the little ones\n",
    "arch.loc[arch.text.str.contains('(baby Rand Paul)'), 'name'] = 'Rand Paul'\n",
    "arch.loc[arch.text.str.contains('(puffie_the_chow)'), 'name'] = 'Puffie'\n",
    "arch.loc[arch.text.str.contains('(14/10 for Grace)'), 'name'] = 'Grace'\n",
    "arch.loc[arch.text.str.contains('(and Forrest)'), 'name'] = 'Forrest'\n",
    "arch.loc[arch.text.str.contains('(That is Quizno)'), 'name'] = 'Quizno'\n",
    "arch.loc[arch.text.str.contains('(Butternut Cumberfloof)'), 'name'] = 'Butternut Cumberfloof'\n",
    "arch.loc[arch.text.str.contains('(Toblerone)'), 'name'] = 'Toblerone'\n",
    "arch.loc[arch.text.str.contains('(Vesuvius)'), 'name'] = 'Vesuvius'\n",
    "arch.loc[arch.text.str.contains('(Parthenon)'), 'name'] = 'Parthenon'\n",
    "arch.loc[arch.text.str.contains('(Piers Morgan)'), 'name'] = 'Piers Morgan'"
   ]
  },
  {
   "cell_type": "markdown",
   "metadata": {},
   "source": [
    "#### Test (2)"
   ]
  },
  {
   "cell_type": "code",
   "execution_count": 1082,
   "metadata": {
    "collapsed": true
   },
   "outputs": [
    {
     "data": {
      "text/plain": [
       "array([\"I've yet to rate a Venezuelan Hover Wiener. This is such an honor. 14/10 paw-inspiring af (IG: roxy.thedoxy) https://t.co/20VrLAA8ba\",\n",
       "       \"There's going to be a dog terminal at JFK Airport. This is not a drill. 10/10  \\nhttps://t.co/dp5h9bCwU7\",\n",
       "       \"This is one of the most inspirational stories I've ever come across. I have no words. 14/10 for both doggo and owner https://t.co/I5ld3eKD5k\",\n",
       "       'What jokester sent in a pic without a dog in it? This is not @rock_rates. This is @dog_rates. Thank you ...10/10 https://t.co/nDPaYHrtNX',\n",
       "       \"This is one of the most reckless puppers I've ever seen. How she got a license in the first place is beyond me. 6/10 https://t.co/z5bAdtn9kd\",\n",
       "       'This is a mighty rare blue-tailed hammer sherk. Human almost lost a limb trying to take these. Be careful guys. 8/10 https://t.co/TGenMeXreW',\n",
       "       'Viewer discretion is advised. This is a terrible attack in progress. Not even in water (tragic af). 4/10 bad sherk https://t.co/L3U0j14N5R',\n",
       "       \"This is actually a pupper and I'd pet it so well. 12/10\\nhttps://t.co/RNqS7C4Y4N\",\n",
       "       'This is a very rare Great Alaskan Bush Pupper. Hard to stumble upon without spooking. 12/10 would pet passionately https://t.co/xOBKCdpzaa',\n",
       "       'This is just downright precious af. 12/10 for both pupper and doggo https://t.co/o5J479bZUC',\n",
       "       'Say hello to mad pupper. You know what you did. 13/10 would pet until no longer furustrated https://t.co/u1ulQ5heLX',\n",
       "       'Say hello to this unbelievably well behaved squad of doggos. 204/170 would try to pet all at once https://t.co/yGQI3He3xv',\n",
       "       'This is all I want in my life. 12/10 for super sleepy pupper https://t.co/4RlLA5ObMh',\n",
       "       \"This is old now but it's absolutely heckin fantastic and I can't not share it with you all. 13/10  https://t.co/wJX74TSgzP\",\n",
       "       'Here is a heartbreaking scene of an incredible pupper being laid to rest. 10/10 RIP pupper https://t.co/81mvJ0rGRu',\n",
       "       \"Here is a whole flock of puppers.  60/50 I'll take the lot https://t.co/9dpcw6MdWa\",\n",
       "       'This is a Wild Tuscan Poofwiggle. Careful not to startle. Rare tongue slip. One eye magical. 12/10 would def pet https://t.co/4EnShAQjv6',\n",
       "       '\"Pupper is a present to world. Here is a bow for pupper.\" 12/10 precious as hell https://t.co/ItSsE92gCW',\n",
       "       'This is just a beautiful pupper good shit evolution. 12/10 https://t.co/2L8pI0Z2Ib',\n",
       "       'This is a rare Arctic Wubberfloof. Unamused by the happenings. No longer has the appetites. 12/10 would totally hug https://t.co/krvbacIX0N',\n",
       "       \"This is the newly formed pupper a capella group. They're just starting out but I see tons of potential. 8/10 for all https://t.co/wbAcvFoNtn\",\n",
       "       'This is by far the most coordinated series of pictures I was sent. Downright impressive in every way. 12/10 for all https://t.co/etzLo3sdZE',\n",
       "       'This is officially the greatest yawn of all time. 12/10 https://t.co/4R0Cc0sLVE',\n",
       "       'This is a dog swinging. I really enjoyed it so I hope you all do as well. 11/10 https://t.co/Ozo9KHTRND',\n",
       "       \"This is the happiest pupper I've ever seen. 10/10 would trade lives with https://t.co/ep8ATEJwRb\",\n",
       "       \"This is the saddest/sweetest/best picture I've been sent. 12/10 😢🐶 https://t.co/vQ2Lw1BLBF\",\n",
       "       'This is a fluffy albino Bacardi Columbia mix. Excellent at the tweets. 11/10 would hug gently https://t.co/diboDRUuEI',\n",
       "       'This is life-changing. 12/10 https://t.co/SroTpI6psB',\n",
       "       'This is a Sagitariot Baklava mix. Loves her new hat. 11/10 radiant pup https://t.co/Bko5kFJYUU',\n",
       "       'This is one esteemed pupper. Just graduated college. 10/10 what a champ https://t.co/nyReCVRiyd',\n",
       "       'This is a heavily opinionated dog. Loves walls. Nobody knows how the hair works. Always ready for a kiss. 4/10 https://t.co/dFiaKZ9cDl',\n",
       "       'This is light saber pup. Ready to fight off evil with light saber. 10/10 true hero https://t.co/LPPa3btIIt',\n",
       "       'This is just impressive I have nothing else to say. 11/10 https://t.co/LquQZiZjJP',\n",
       "       \"This is space pup. He's very confused. Tries to moonwalk at one point. Super spiffy uniform. 13/10 I love space pup https://t.co/SfPQ2KeLdq\",\n",
       "       \"This is the best thing I've ever seen so spread it like wildfire &amp; maybe we'll find the genius who created it. 13/10 https://t.co/q6RsuOVYwU\",\n",
       "       \"This is a brave dog. Excellent free climber. Trying to get closer to God. Not very loyal though. Doesn't bark. 5/10 https://t.co/ODnILTr4QM\",\n",
       "       'Here is a horned dog. Much grace. Can jump over moons (dam!). Paws not soft. Bad at barking. 7/10 can still pet tho https://t.co/2Su7gmsnZm',\n",
       "       'Never forget this vine. You will not stop watching for at least 15 minutes. This is the second coveted.. 13/10 https://t.co/roqIxCvEB3',\n",
       "       \"Here is a mother dog caring for her pups. Snazzy red mohawk. Doesn't wag tail. Pups look confused. Overall 4/10 https://t.co/YOHe6lf09m\",\n",
       "       \"This is quite the dog. Gets really excited when not in water. Not very soft tho. Bad at fetch. Can't do tricks. 2/10 https://t.co/aMCTNWO94t\",\n",
       "       \"This is a funny dog. Weird toes. Won't come down. Loves branch. Refuses to eat his food. Hard to cuddle with. 3/10 https://t.co/IIXis0zta0\",\n",
       "       'This is an Albanian 3 1/2 legged  Episcopalian. Loves well-polished hardwood flooring. Penis on the collar. 9/10 https://t.co/d9NcXFKwLv',\n",
       "       'This is the happiest dog you will ever see. Very committed owner. Nice couch. 10/10 https://t.co/RhUEAloehK',\n",
       "       \"Here is the Rand Paul of retrievers folks! He's probably good at poker. Can drink beer (lol rad). 8/10 good dog https://t.co/pYAJkAe76p\",\n",
       "       'My oh my. This is a rare blond Canadian terrier on wheels. Only $8.98. Rather docile. 9/10 very rare https://t.co/yWBqbrzy8O',\n",
       "       'Here is a Siberian heavily armored polar bear mix. Strong owner. 10/10 I would do unspeakable things to pet this dog https://t.co/rdivxLiqEt',\n",
       "       \"This is an odd dog. Hard on the outside but loving on the inside. Petting still fun. Doesn't play catch well. 2/10 https://t.co/v5A4vzSDdc\",\n",
       "       'This is a truly beautiful English Wilson Staff retriever. Has a nice phone. Privileged. 10/10 would trade lives with https://t.co/fvIbQfHjIe',\n",
       "       'Here is a very happy pup. Big fan of well-maintained decks. Just look at that tongue. 9/10 would cuddle af https://t.co/y671yMhoiR',\n",
       "       'This is a western brown Mitsubishi terrier. Upset about leaf. Actually 2 dogs here. 7/10 would walk the shit out of https://t.co/r7mOb2m0UI'],\n",
       "      dtype=object)"
      ]
     },
     "execution_count": 1082,
     "metadata": {},
     "output_type": "execute_result"
    }
   ],
   "source": [
    "arch[(arch.name.str.contains('([A-Z][a-z]*)') == False)].text.unique()"
   ]
  },
  {
   "cell_type": "code",
   "execution_count": 1084,
   "metadata": {},
   "outputs": [],
   "source": [
    "# Name the other dogs \"Unknown\"\n",
    "arch.loc[arch.name.str.contains('([A-Z][a-z]*)') == False, 'name'] = 'Unknown'\n",
    "# And also the dog names described as 'None'\n",
    "arch.loc[arch.name == 'None', 'name'] = 'Unknown'"
   ]
  },
  {
   "cell_type": "code",
   "execution_count": 1085,
   "metadata": {},
   "outputs": [
    {
     "data": {
      "text/plain": [
       "Series([], Name: name, dtype: object)"
      ]
     },
     "execution_count": 1085,
     "metadata": {},
     "output_type": "execute_result"
    }
   ],
   "source": [
    "# Do the check\n",
    "arch.loc[arch.name.str.contains('([A-Z][a-z]*)') == False, 'name']"
   ]
  },
  {
   "cell_type": "markdown",
   "metadata": {},
   "source": [
    "#### Define\n",
    "* Rating denominators have multiple values that are different from 10\n",
    "\n",
    "I need to check how many values are not equal to 10, and what is the logiс behind the calculation before acting on it.\n",
    "\n",
    "#### Code\n",
    "Let's find all the denominators out there that are not equal to 10, but in the text there is something like \"/10\", so the correct rating is not taken into account."
   ]
  },
  {
   "cell_type": "code",
   "execution_count": 1088,
   "metadata": {
    "collapsed": true
   },
   "outputs": [
    {
     "data": {
      "text/plain": [
       "array(['After so many requests, this is Bretagne. She was the last surviving 9/11 search dog, and our second ever 14/10. RIP https://t.co/XAVDNDaVgQ',\n",
       "       'Happy 4/20 from the squad! 13/10 for all https://t.co/eV1diwds8a',\n",
       "       'This is Bluebert. He just saw that both #FinalFur match ups are split 50/50. Amazed af. 11/10 https://t.co/Kky1DPG4iq',\n",
       "       'This is Darrel. He just robbed a 7/11 and is in a high speed police chase. Was just spotted by the helicopter 10/10 https://t.co/7EsP8LmSp5',\n",
       "       'This is an Albanian 3 1/2 legged  Episcopalian. Loves well-polished hardwood flooring. Penis on the collar. 9/10 https://t.co/d9NcXFKwLv'],\n",
       "      dtype=object)"
      ]
     },
     "execution_count": 1088,
     "metadata": {},
     "output_type": "execute_result"
    }
   ],
   "source": [
    "# Query the above assumption (using text)\n",
    "arch[(arch.rating_denominator != 10) & (arch.text.str.contains('(\\/10)'))].text.unique()"
   ]
  },
  {
   "cell_type": "code",
   "execution_count": 1089,
   "metadata": {},
   "outputs": [],
   "source": [
    "# Extract the correct rating for these tweets\n",
    "arch.loc[(arch.rating_denominator != 10) & (arch.text.str.contains('(\\/10)')), 'rating_denominator'] = 10\n",
    "arch.loc[(arch.rating_denominator != 10) & (arch.text.str.contains('(\\/10)')), 'rating_numerator'] = arch.text.str.extract('(\\d+\\/10)', expand = False).str.replace('(\\d+)',\"\")"
   ]
  },
  {
   "cell_type": "markdown",
   "metadata": {},
   "source": [
    "#### Test"
   ]
  },
  {
   "cell_type": "code",
   "execution_count": 1091,
   "metadata": {},
   "outputs": [
    {
     "data": {
      "text/plain": [
       "array(['The floofs have been released I repeat the floofs have been released. 84/70 https://t.co/NIYC820tmd',\n",
       "       'Meet Sam. She smiles 24/7 &amp; secretly aspires to be a reindeer. \\nKeep Sam smiling by clicking and sharing this link:\\nhttps://t.co/98tB8y7y7t https://t.co/LouL5vdvxx',\n",
       "       'Why does this never happen at my front door... 165/150 https://t.co/HmwrdfEfUE',\n",
       "       'Say hello to this unbelievably well behaved squad of doggos. 204/170 would try to pet all at once https://t.co/yGQI3He3xv',\n",
       "       \"Happy Saturday here's 9 puppers on a bench. 99/90 good work everybody https://t.co/mpvaVxKmc1\",\n",
       "       \"Here's a brigade of puppers. All look very prepared for whatever happens next. 80/80 https://t.co/0eb7R1Om12\",\n",
       "       'From left to right:\\nCletus, Jerome, Alejandro, Burp, &amp; Titson\\nNone know where camera is. 45/50 would hug all at once https://t.co/sedre1ivTK',\n",
       "       \"Here is a whole flock of puppers.  60/50 I'll take the lot https://t.co/9dpcw6MdWa\",\n",
       "       \"Happy Wednesday here's a bucket of pups. 44/40 would pet all at once https://t.co/HppvrYuamZ\",\n",
       "       'Someone help the girl is being mugged. Several are distracting her while two steal her shoes. Clever puppers 121/110 https://t.co/1zfnTJLt55',\n",
       "       \"IT'S PUPPERGEDDON. Total of 144/120 ...I think https://t.co/ZanVtAtvIq\",\n",
       "       'Here we have an entire platoon of puppers. Total score: 88/80 would pet all at once https://t.co/y93p6FLvVw'],\n",
       "      dtype=object)"
      ]
     },
     "execution_count": 1091,
     "metadata": {},
     "output_type": "execute_result"
    }
   ],
   "source": [
    "arch[arch.rating_denominator != 10].text.unique()"
   ]
  },
  {
   "cell_type": "markdown",
   "metadata": {},
   "source": [
    "Clearly, there is one tweet without a proper rating (# 810984652412424192 - featuring Sam) - we would need to give this guy a 10/10 (for the consistency of our data frame)\n",
    "#### Code (2)"
   ]
  },
  {
   "cell_type": "code",
   "execution_count": 1092,
   "metadata": {},
   "outputs": [],
   "source": [
    "# Rate Sam as 10/10\n",
    "arch.loc[arch.tweet_id == 810984652412424192, 'rating_numerator'] = 10\n",
    "arch.loc[arch.tweet_id == 810984652412424192, 'rating_denominator'] = 10"
   ]
  },
  {
   "cell_type": "markdown",
   "metadata": {},
   "source": [
    "Now, we will proportionally decrease ratings with higher denominators to arrive to the common denominator of 10."
   ]
  },
  {
   "cell_type": "code",
   "execution_count": 1093,
   "metadata": {},
   "outputs": [],
   "source": [
    "# Change the ratings proportionally while keeping values as integers\n",
    "arch.loc[arch.rating_denominator != 10, 'rating_numerator'] = (arch.loc[arch.rating_denominator != 10, 'rating_numerator'] / arch.loc[arch.rating_denominator != 10, 'rating_denominator'] * 10).astype(int)\n",
    "arch.loc[arch.rating_denominator != 10, 'rating_denominator'] = (arch.loc[arch.rating_denominator != 10, 'rating_denominator'] / arch.loc[arch.rating_denominator != 10, 'rating_denominator'] * 10).astype(int)"
   ]
  },
  {
   "cell_type": "markdown",
   "metadata": {},
   "source": [
    "#### Test (2)"
   ]
  },
  {
   "cell_type": "code",
   "execution_count": 1094,
   "metadata": {},
   "outputs": [
    {
     "data": {
      "text/plain": [
       "0"
      ]
     },
     "execution_count": 1094,
     "metadata": {},
     "output_type": "execute_result"
    }
   ],
   "source": [
    "# Test if there are any denominators not equal to 10\n",
    "len(arch[arch.rating_denominator != 10])"
   ]
  },
  {
   "cell_type": "code",
   "execution_count": 1095,
   "metadata": {},
   "outputs": [
    {
     "data": {
      "text/html": [
       "<div>\n",
       "<style scoped>\n",
       "    .dataframe tbody tr th:only-of-type {\n",
       "        vertical-align: middle;\n",
       "    }\n",
       "\n",
       "    .dataframe tbody tr th {\n",
       "        vertical-align: top;\n",
       "    }\n",
       "\n",
       "    .dataframe thead th {\n",
       "        text-align: right;\n",
       "    }\n",
       "</style>\n",
       "<table border=\"1\" class=\"dataframe\">\n",
       "  <thead>\n",
       "    <tr style=\"text-align: right;\">\n",
       "      <th></th>\n",
       "      <th>tweet_id</th>\n",
       "      <th>timestamp</th>\n",
       "      <th>source</th>\n",
       "      <th>text</th>\n",
       "      <th>expanded_urls</th>\n",
       "      <th>rating_numerator</th>\n",
       "      <th>rating_denominator</th>\n",
       "      <th>name</th>\n",
       "      <th>doggo</th>\n",
       "      <th>floofer</th>\n",
       "      <th>pupper</th>\n",
       "      <th>puppo</th>\n",
       "    </tr>\n",
       "  </thead>\n",
       "  <tbody>\n",
       "    <tr>\n",
       "      <td>1779</td>\n",
       "      <td>677716515794329600</td>\n",
       "      <td>2015-12-18 05:06:23 +0000</td>\n",
       "      <td>&lt;a href=\"http://twitter.com/download/iphone\" r...</td>\n",
       "      <td>IT'S PUPPERGEDDON. Total of 144/120 ...I think...</td>\n",
       "      <td>https://twitter.com/dog_rates/status/677716515...</td>\n",
       "      <td>12</td>\n",
       "      <td>10</td>\n",
       "      <td>Unknown</td>\n",
       "      <td>None</td>\n",
       "      <td>None</td>\n",
       "      <td>None</td>\n",
       "      <td>None</td>\n",
       "    </tr>\n",
       "  </tbody>\n",
       "</table>\n",
       "</div>"
      ],
      "text/plain": [
       "                tweet_id                  timestamp  \\\n",
       "1779  677716515794329600  2015-12-18 05:06:23 +0000   \n",
       "\n",
       "                                                 source  \\\n",
       "1779  <a href=\"http://twitter.com/download/iphone\" r...   \n",
       "\n",
       "                                                   text  \\\n",
       "1779  IT'S PUPPERGEDDON. Total of 144/120 ...I think...   \n",
       "\n",
       "                                          expanded_urls  rating_numerator  \\\n",
       "1779  https://twitter.com/dog_rates/status/677716515...                12   \n",
       "\n",
       "      rating_denominator     name doggo floofer pupper puppo  \n",
       "1779                  10  Unknown  None    None   None  None  "
      ]
     },
     "execution_count": 1095,
     "metadata": {},
     "output_type": "execute_result"
    }
   ],
   "source": [
    "# Test one tweet for consistency\n",
    "arch[arch.tweet_id == 677716515794329600]"
   ]
  },
  {
   "cell_type": "markdown",
   "metadata": {},
   "source": [
    "#### Define\n",
    "* Erroneous data types for: `timestamp`, `in_reply_to_status_id`,`in_reply_to_user_id`, `retweeted_status_id`, `retweeted_status_user_id`, `retweeted_status_timestamp`\n",
    "\n",
    "I only need to convert the `timestamp` column data type since the other ones are gone.\n",
    "\n",
    "#### Code\n",
    "Let's convert the column data type"
   ]
  },
  {
   "cell_type": "code",
   "execution_count": 1096,
   "metadata": {},
   "outputs": [],
   "source": [
    "# Convert 'timestamp' to datetime\n",
    "arch['timestamp'] = pd.to_datetime(arch['timestamp'])"
   ]
  },
  {
   "cell_type": "markdown",
   "metadata": {},
   "source": [
    "#### Test"
   ]
  },
  {
   "cell_type": "code",
   "execution_count": 1098,
   "metadata": {},
   "outputs": [
    {
     "name": "stdout",
     "output_type": "stream",
     "text": [
      "<class 'pandas.core.frame.DataFrame'>\n",
      "Int64Index: 2031 entries, 0 to 1726\n",
      "Data columns (total 12 columns):\n",
      "tweet_id              2031 non-null int64\n",
      "timestamp             2031 non-null datetime64[ns, UTC]\n",
      "source                2031 non-null object\n",
      "text                  2031 non-null object\n",
      "expanded_urls         2028 non-null object\n",
      "rating_numerator      2031 non-null int64\n",
      "rating_denominator    2031 non-null int64\n",
      "name                  2031 non-null object\n",
      "doggo                 2031 non-null object\n",
      "floofer               2031 non-null object\n",
      "pupper                2031 non-null object\n",
      "puppo                 2031 non-null object\n",
      "dtypes: datetime64[ns, UTC](1), int64(3), object(8)\n",
      "memory usage: 286.3+ KB\n"
     ]
    }
   ],
   "source": [
    "arch.info()"
   ]
  },
  {
   "cell_type": "markdown",
   "metadata": {},
   "source": [
    "#### Define\n",
    "* Dogtionary dog type is split into 4 different columns (doggo, floofer, pupper, puppo)\n",
    "\n",
    "Need to use the for loop to go through the Dogtionary columns to create a single Dogtionary column.\n",
    "The `pd.melt()` is not available because some of the rows have four 'None' values consecutively.\n",
    "#### Code"
   ]
  },
  {
   "cell_type": "code",
   "execution_count": 1099,
   "metadata": {},
   "outputs": [
    {
     "data": {
      "text/html": [
       "<div>\n",
       "<style scoped>\n",
       "    .dataframe tbody tr th:only-of-type {\n",
       "        vertical-align: middle;\n",
       "    }\n",
       "\n",
       "    .dataframe tbody tr th {\n",
       "        vertical-align: top;\n",
       "    }\n",
       "\n",
       "    .dataframe thead th {\n",
       "        text-align: right;\n",
       "    }\n",
       "</style>\n",
       "<table border=\"1\" class=\"dataframe\">\n",
       "  <thead>\n",
       "    <tr style=\"text-align: right;\">\n",
       "      <th></th>\n",
       "      <th>tweet_id</th>\n",
       "      <th>timestamp</th>\n",
       "      <th>source</th>\n",
       "      <th>text</th>\n",
       "      <th>expanded_urls</th>\n",
       "      <th>rating_numerator</th>\n",
       "      <th>rating_denominator</th>\n",
       "      <th>name</th>\n",
       "      <th>doggo</th>\n",
       "      <th>floofer</th>\n",
       "      <th>pupper</th>\n",
       "      <th>puppo</th>\n",
       "      <th>dogtionary_type</th>\n",
       "    </tr>\n",
       "  </thead>\n",
       "  <tbody>\n",
       "    <tr>\n",
       "      <td>0</td>\n",
       "      <td>892420643555336193</td>\n",
       "      <td>2017-08-01 16:23:56+00:00</td>\n",
       "      <td>&lt;a href=\"http://twitter.com/download/iphone\" r...</td>\n",
       "      <td>This is Phineas. He's a mystical boy. Only eve...</td>\n",
       "      <td>https://twitter.com/dog_rates/status/892420643...</td>\n",
       "      <td>13</td>\n",
       "      <td>10</td>\n",
       "      <td>Phineas</td>\n",
       "      <td>None</td>\n",
       "      <td>None</td>\n",
       "      <td>None</td>\n",
       "      <td>None</td>\n",
       "      <td>a</td>\n",
       "    </tr>\n",
       "  </tbody>\n",
       "</table>\n",
       "</div>"
      ],
      "text/plain": [
       "             tweet_id                 timestamp  \\\n",
       "0  892420643555336193 2017-08-01 16:23:56+00:00   \n",
       "\n",
       "                                              source  \\\n",
       "0  <a href=\"http://twitter.com/download/iphone\" r...   \n",
       "\n",
       "                                                text  \\\n",
       "0  This is Phineas. He's a mystical boy. Only eve...   \n",
       "\n",
       "                                       expanded_urls  rating_numerator  \\\n",
       "0  https://twitter.com/dog_rates/status/892420643...                13   \n",
       "\n",
       "   rating_denominator     name doggo floofer pupper puppo dogtionary_type  \n",
       "0                  10  Phineas  None    None   None  None               a  "
      ]
     },
     "execution_count": 1099,
     "metadata": {},
     "output_type": "execute_result"
    }
   ],
   "source": [
    "# Create a new column and fill it in with a simple string\n",
    "arch['dogtionary_type'] = \"a\"\n",
    "arch.head(1)"
   ]
  },
  {
   "cell_type": "code",
   "execution_count": 1100,
   "metadata": {
    "scrolled": true
   },
   "outputs": [
    {
     "name": "stderr",
     "output_type": "stream",
     "text": [
      "/Users/nicklemonparty/opt/anaconda3/lib/python3.7/site-packages/pandas/core/indexing.py:205: SettingWithCopyWarning: \n",
      "A value is trying to be set on a copy of a slice from a DataFrame\n",
      "\n",
      "See the caveats in the documentation: http://pandas.pydata.org/pandas-docs/stable/user_guide/indexing.html#returning-a-view-versus-a-copy\n",
      "  self._setitem_with_indexer(indexer, value)\n"
     ]
    }
   ],
   "source": [
    "# Apply the for loop\n",
    "for i in range(len(arch)):\n",
    "    if arch.iloc[i].doggo == 'doggo':\n",
    "        arch.dogtionary_type.iloc[i] = 'doggo'\n",
    "    elif arch.iloc[i].floofer == 'floofer':\n",
    "        arch.dogtionary_type.iloc[i] = 'floofer'\n",
    "    elif arch.iloc[i].pupper == 'pupper':\n",
    "        arch.dogtionary_type.iloc[i] = 'pupper'\n",
    "    elif arch.iloc[i].puppo == 'puppo':\n",
    "        arch.dogtionary_type.iloc[i] = 'puppo'\n",
    "    else: arch.dogtionary_type.iloc[i] = 'unknown'"
   ]
  },
  {
   "cell_type": "code",
   "execution_count": 1102,
   "metadata": {},
   "outputs": [],
   "source": [
    "# drop the 4 columns that we do not need anymore\n",
    "arch = arch.drop(['doggo', 'floofer', 'pupper', 'puppo'], axis = 1)"
   ]
  },
  {
   "cell_type": "markdown",
   "metadata": {},
   "source": [
    "#### Test"
   ]
  },
  {
   "cell_type": "code",
   "execution_count": 1103,
   "metadata": {
    "collapsed": true
   },
   "outputs": [
    {
     "data": {
      "text/html": [
       "<div>\n",
       "<style scoped>\n",
       "    .dataframe tbody tr th:only-of-type {\n",
       "        vertical-align: middle;\n",
       "    }\n",
       "\n",
       "    .dataframe tbody tr th {\n",
       "        vertical-align: top;\n",
       "    }\n",
       "\n",
       "    .dataframe thead th {\n",
       "        text-align: right;\n",
       "    }\n",
       "</style>\n",
       "<table border=\"1\" class=\"dataframe\">\n",
       "  <thead>\n",
       "    <tr style=\"text-align: right;\">\n",
       "      <th></th>\n",
       "      <th>tweet_id</th>\n",
       "      <th>timestamp</th>\n",
       "      <th>source</th>\n",
       "      <th>text</th>\n",
       "      <th>expanded_urls</th>\n",
       "      <th>rating_numerator</th>\n",
       "      <th>rating_denominator</th>\n",
       "      <th>name</th>\n",
       "      <th>dogtionary_type</th>\n",
       "    </tr>\n",
       "  </thead>\n",
       "  <tbody>\n",
       "    <tr>\n",
       "      <td>2190</td>\n",
       "      <td>668960084974809088</td>\n",
       "      <td>2015-11-24 01:11:27+00:00</td>\n",
       "      <td>&lt;a href=\"http://twitter.com/download/iphone\" r...</td>\n",
       "      <td>Meet Jaycob. He got scared of the vacuum. Hide...</td>\n",
       "      <td>https://twitter.com/dog_rates/status/668960084...</td>\n",
       "      <td>10</td>\n",
       "      <td>10</td>\n",
       "      <td>Jaycob</td>\n",
       "      <td>unknown</td>\n",
       "    </tr>\n",
       "    <tr>\n",
       "      <td>459</td>\n",
       "      <td>817827839487737858</td>\n",
       "      <td>2017-01-07 20:18:46+00:00</td>\n",
       "      <td>&lt;a href=\"http://twitter.com/download/iphone\" r...</td>\n",
       "      <td>This is Buddy. He ran into a glass door once. ...</td>\n",
       "      <td>https://twitter.com/dog_rates/status/817827839...</td>\n",
       "      <td>13</td>\n",
       "      <td>10</td>\n",
       "      <td>Buddy</td>\n",
       "      <td>unknown</td>\n",
       "    </tr>\n",
       "    <tr>\n",
       "      <td>1672</td>\n",
       "      <td>682389078323662849</td>\n",
       "      <td>2015-12-31 02:33:29+00:00</td>\n",
       "      <td>&lt;a href=\"http://twitter.com/download/iphone\" r...</td>\n",
       "      <td>Meet Brody. He's a Downton Abbey Falsetto. Add...</td>\n",
       "      <td>https://twitter.com/dog_rates/status/682389078...</td>\n",
       "      <td>9</td>\n",
       "      <td>10</td>\n",
       "      <td>Brody</td>\n",
       "      <td>unknown</td>\n",
       "    </tr>\n",
       "    <tr>\n",
       "      <td>237</td>\n",
       "      <td>847157206088847362</td>\n",
       "      <td>2017-03-29 18:43:12+00:00</td>\n",
       "      <td>&lt;a href=\"http://twitter.com/download/iphone\" r...</td>\n",
       "      <td>Meet Daisy. She's been pup for adoption for mo...</td>\n",
       "      <td>https://www.petfinder.com/petdetail/37334596,h...</td>\n",
       "      <td>11</td>\n",
       "      <td>10</td>\n",
       "      <td>Daisy</td>\n",
       "      <td>unknown</td>\n",
       "    </tr>\n",
       "    <tr>\n",
       "      <td>2330</td>\n",
       "      <td>666362758909284353</td>\n",
       "      <td>2015-11-16 21:10:36+00:00</td>\n",
       "      <td>&lt;a href=\"http://twitter.com/download/iphone\" r...</td>\n",
       "      <td>Unique dog here. Very small. Lives in containe...</td>\n",
       "      <td>https://twitter.com/dog_rates/status/666362758...</td>\n",
       "      <td>6</td>\n",
       "      <td>10</td>\n",
       "      <td>Unknown</td>\n",
       "      <td>unknown</td>\n",
       "    </tr>\n",
       "    <tr>\n",
       "      <td>1213</td>\n",
       "      <td>715220193576927233</td>\n",
       "      <td>2016-03-30 16:52:36+00:00</td>\n",
       "      <td>&lt;a href=\"http://twitter.com/download/iphone\" r...</td>\n",
       "      <td>This is Nico. His selfie game is strong af. Ex...</td>\n",
       "      <td>https://twitter.com/dog_rates/status/715220193...</td>\n",
       "      <td>10</td>\n",
       "      <td>10</td>\n",
       "      <td>Nico</td>\n",
       "      <td>unknown</td>\n",
       "    </tr>\n",
       "    <tr>\n",
       "      <td>107</td>\n",
       "      <td>871762521631449091</td>\n",
       "      <td>2017-06-05 16:15:56+00:00</td>\n",
       "      <td>&lt;a href=\"http://twitter.com/download/iphone\" r...</td>\n",
       "      <td>This is Rover. As part of pupper protocol he h...</td>\n",
       "      <td>https://twitter.com/dog_rates/status/871762521...</td>\n",
       "      <td>12</td>\n",
       "      <td>10</td>\n",
       "      <td>Rover</td>\n",
       "      <td>pupper</td>\n",
       "    </tr>\n",
       "    <tr>\n",
       "      <td>376</td>\n",
       "      <td>828046555563323392</td>\n",
       "      <td>2017-02-05 01:04:17+00:00</td>\n",
       "      <td>&lt;a href=\"http://twitter.com/download/iphone\" r...</td>\n",
       "      <td>This is Sailer. He waits on the roof for his o...</td>\n",
       "      <td>https://twitter.com/dog_rates/status/828046555...</td>\n",
       "      <td>13</td>\n",
       "      <td>10</td>\n",
       "      <td>Sailer</td>\n",
       "      <td>unknown</td>\n",
       "    </tr>\n",
       "    <tr>\n",
       "      <td>903</td>\n",
       "      <td>758405701903519748</td>\n",
       "      <td>2016-07-27 20:56:24+00:00</td>\n",
       "      <td>&lt;a href=\"http://twitter.com/download/iphone\" r...</td>\n",
       "      <td>This is Odie. He falls asleep wherever he want...</td>\n",
       "      <td>https://twitter.com/dog_rates/status/758405701...</td>\n",
       "      <td>10</td>\n",
       "      <td>10</td>\n",
       "      <td>Odie</td>\n",
       "      <td>unknown</td>\n",
       "    </tr>\n",
       "    <tr>\n",
       "      <td>626</td>\n",
       "      <td>795076730285391872</td>\n",
       "      <td>2016-11-06 01:33:58+00:00</td>\n",
       "      <td>&lt;a href=\"http://twitter.com/download/iphone\" r...</td>\n",
       "      <td>This is Bailey. She loves going down slides bu...</td>\n",
       "      <td>https://twitter.com/dog_rates/status/795076730...</td>\n",
       "      <td>11</td>\n",
       "      <td>10</td>\n",
       "      <td>Bailey</td>\n",
       "      <td>unknown</td>\n",
       "    </tr>\n",
       "  </tbody>\n",
       "</table>\n",
       "</div>"
      ],
      "text/plain": [
       "                tweet_id                 timestamp  \\\n",
       "2190  668960084974809088 2015-11-24 01:11:27+00:00   \n",
       "459   817827839487737858 2017-01-07 20:18:46+00:00   \n",
       "1672  682389078323662849 2015-12-31 02:33:29+00:00   \n",
       "237   847157206088847362 2017-03-29 18:43:12+00:00   \n",
       "2330  666362758909284353 2015-11-16 21:10:36+00:00   \n",
       "1213  715220193576927233 2016-03-30 16:52:36+00:00   \n",
       "107   871762521631449091 2017-06-05 16:15:56+00:00   \n",
       "376   828046555563323392 2017-02-05 01:04:17+00:00   \n",
       "903   758405701903519748 2016-07-27 20:56:24+00:00   \n",
       "626   795076730285391872 2016-11-06 01:33:58+00:00   \n",
       "\n",
       "                                                 source  \\\n",
       "2190  <a href=\"http://twitter.com/download/iphone\" r...   \n",
       "459   <a href=\"http://twitter.com/download/iphone\" r...   \n",
       "1672  <a href=\"http://twitter.com/download/iphone\" r...   \n",
       "237   <a href=\"http://twitter.com/download/iphone\" r...   \n",
       "2330  <a href=\"http://twitter.com/download/iphone\" r...   \n",
       "1213  <a href=\"http://twitter.com/download/iphone\" r...   \n",
       "107   <a href=\"http://twitter.com/download/iphone\" r...   \n",
       "376   <a href=\"http://twitter.com/download/iphone\" r...   \n",
       "903   <a href=\"http://twitter.com/download/iphone\" r...   \n",
       "626   <a href=\"http://twitter.com/download/iphone\" r...   \n",
       "\n",
       "                                                   text  \\\n",
       "2190  Meet Jaycob. He got scared of the vacuum. Hide...   \n",
       "459   This is Buddy. He ran into a glass door once. ...   \n",
       "1672  Meet Brody. He's a Downton Abbey Falsetto. Add...   \n",
       "237   Meet Daisy. She's been pup for adoption for mo...   \n",
       "2330  Unique dog here. Very small. Lives in containe...   \n",
       "1213  This is Nico. His selfie game is strong af. Ex...   \n",
       "107   This is Rover. As part of pupper protocol he h...   \n",
       "376   This is Sailer. He waits on the roof for his o...   \n",
       "903   This is Odie. He falls asleep wherever he want...   \n",
       "626   This is Bailey. She loves going down slides bu...   \n",
       "\n",
       "                                          expanded_urls  rating_numerator  \\\n",
       "2190  https://twitter.com/dog_rates/status/668960084...                10   \n",
       "459   https://twitter.com/dog_rates/status/817827839...                13   \n",
       "1672  https://twitter.com/dog_rates/status/682389078...                 9   \n",
       "237   https://www.petfinder.com/petdetail/37334596,h...                11   \n",
       "2330  https://twitter.com/dog_rates/status/666362758...                 6   \n",
       "1213  https://twitter.com/dog_rates/status/715220193...                10   \n",
       "107   https://twitter.com/dog_rates/status/871762521...                12   \n",
       "376   https://twitter.com/dog_rates/status/828046555...                13   \n",
       "903   https://twitter.com/dog_rates/status/758405701...                10   \n",
       "626   https://twitter.com/dog_rates/status/795076730...                11   \n",
       "\n",
       "      rating_denominator     name dogtionary_type  \n",
       "2190                  10   Jaycob         unknown  \n",
       "459                   10    Buddy         unknown  \n",
       "1672                  10    Brody         unknown  \n",
       "237                   10    Daisy         unknown  \n",
       "2330                  10  Unknown         unknown  \n",
       "1213                  10     Nico         unknown  \n",
       "107                   10    Rover          pupper  \n",
       "376                   10   Sailer         unknown  \n",
       "903                   10     Odie         unknown  \n",
       "626                   10   Bailey         unknown  "
      ]
     },
     "execution_count": 1103,
     "metadata": {},
     "output_type": "execute_result"
    }
   ],
   "source": [
    "# Get a sample of 10 lines of the data frame\n",
    "arch.sample(10)"
   ]
  },
  {
   "cell_type": "markdown",
   "metadata": {},
   "source": [
    "#### Define\n",
    "\n",
    "* The column source is not tidy and can be adjusted into different source types\n",
    "\n",
    "#### Code"
   ]
  },
  {
   "cell_type": "code",
   "execution_count": 1104,
   "metadata": {
    "scrolled": true
   },
   "outputs": [
    {
     "data": {
      "text/plain": [
       "array(['<a href=\"http://twitter.com/download/iphone\" rel=\"nofollow\">Twitter for iPhone</a>',\n",
       "       '<a href=\"http://twitter.com\" rel=\"nofollow\">Twitter Web Client</a>',\n",
       "       '<a href=\"http://vine.co\" rel=\"nofollow\">Vine - Make a Scene</a>',\n",
       "       '<a href=\"https://about.twitter.com/products/tweetdeck\" rel=\"nofollow\">TweetDeck</a>'],\n",
       "      dtype=object)"
      ]
     },
     "execution_count": 1104,
     "metadata": {},
     "output_type": "execute_result"
    }
   ],
   "source": [
    "# Check the unique names of the source column\n",
    "arch.source.unique()"
   ]
  },
  {
   "cell_type": "code",
   "execution_count": 1105,
   "metadata": {},
   "outputs": [],
   "source": [
    "# Modify the source column using RegEx and replace function\n",
    "arch['source'] = arch['source'].str.extract('(>.+<)')\n",
    "arch['source'] = arch['source'].str.replace(\">\",\"\")\n",
    "arch['source'] = arch['source'].str.replace(\"<\",\"\")"
   ]
  },
  {
   "cell_type": "code",
   "execution_count": 1106,
   "metadata": {},
   "outputs": [
    {
     "data": {
      "text/plain": [
       "array(['Twitter for iPhone', 'Twitter Web Client', 'Vine - Make a Scene',\n",
       "       'TweetDeck'], dtype=object)"
      ]
     },
     "execution_count": 1106,
     "metadata": {},
     "output_type": "execute_result"
    }
   ],
   "source": [
    "# Check the names\n",
    "arch.source.unique()"
   ]
  },
  {
   "cell_type": "code",
   "execution_count": 1107,
   "metadata": {},
   "outputs": [],
   "source": [
    "# Rename columns\n",
    "arch.loc[arch.source == \"Vine - Make a Scene\", 'source'] = 'Vine'\n",
    "arch.loc[arch.source == \"Twitter for iPhone\", 'source'] = 'iPhone'\n",
    "arch.loc[arch.source == \"Twitter Web Client\", 'source'] = 'Web'"
   ]
  },
  {
   "cell_type": "markdown",
   "metadata": {},
   "source": [
    "#### Test"
   ]
  },
  {
   "cell_type": "code",
   "execution_count": 1108,
   "metadata": {},
   "outputs": [
    {
     "data": {
      "text/plain": [
       "array(['iPhone', 'Web', 'Vine', 'TweetDeck'], dtype=object)"
      ]
     },
     "execution_count": 1108,
     "metadata": {},
     "output_type": "execute_result"
    }
   ],
   "source": [
    "# Check the names\n",
    "arch.source.unique()"
   ]
  },
  {
   "cell_type": "markdown",
   "metadata": {},
   "source": [
    "#### Define\n",
    "* 2075 tweets covered instead of the full set of 2356 tweets in the archive;\n",
    "\n",
    "Here, we cannot really do anything because the file does not have any extension or another version, so we will just have to accept that some tweets are missing.\n",
    "\n",
    "Let's move on to the `img` data frame."
   ]
  },
  {
   "cell_type": "code",
   "execution_count": 1109,
   "metadata": {},
   "outputs": [
    {
     "data": {
      "text/html": [
       "<div>\n",
       "<style scoped>\n",
       "    .dataframe tbody tr th:only-of-type {\n",
       "        vertical-align: middle;\n",
       "    }\n",
       "\n",
       "    .dataframe tbody tr th {\n",
       "        vertical-align: top;\n",
       "    }\n",
       "\n",
       "    .dataframe thead th {\n",
       "        text-align: right;\n",
       "    }\n",
       "</style>\n",
       "<table border=\"1\" class=\"dataframe\">\n",
       "  <thead>\n",
       "    <tr style=\"text-align: right;\">\n",
       "      <th></th>\n",
       "      <th>tweet_id</th>\n",
       "      <th>jpg_url</th>\n",
       "      <th>img_num</th>\n",
       "      <th>p1</th>\n",
       "      <th>p1_conf</th>\n",
       "      <th>p1_dog</th>\n",
       "      <th>p2</th>\n",
       "      <th>p2_conf</th>\n",
       "      <th>p2_dog</th>\n",
       "      <th>p3</th>\n",
       "      <th>p3_conf</th>\n",
       "      <th>p3_dog</th>\n",
       "    </tr>\n",
       "  </thead>\n",
       "  <tbody>\n",
       "    <tr>\n",
       "      <td>0</td>\n",
       "      <td>666020888022790149</td>\n",
       "      <td>https://pbs.twimg.com/media/CT4udn0WwAA0aMy.jpg</td>\n",
       "      <td>1</td>\n",
       "      <td>Welsh_springer_spaniel</td>\n",
       "      <td>0.465074</td>\n",
       "      <td>True</td>\n",
       "      <td>collie</td>\n",
       "      <td>0.156665</td>\n",
       "      <td>True</td>\n",
       "      <td>Shetland_sheepdog</td>\n",
       "      <td>0.061428</td>\n",
       "      <td>True</td>\n",
       "    </tr>\n",
       "    <tr>\n",
       "      <td>1</td>\n",
       "      <td>666029285002620928</td>\n",
       "      <td>https://pbs.twimg.com/media/CT42GRgUYAA5iDo.jpg</td>\n",
       "      <td>1</td>\n",
       "      <td>redbone</td>\n",
       "      <td>0.506826</td>\n",
       "      <td>True</td>\n",
       "      <td>miniature_pinscher</td>\n",
       "      <td>0.074192</td>\n",
       "      <td>True</td>\n",
       "      <td>Rhodesian_ridgeback</td>\n",
       "      <td>0.072010</td>\n",
       "      <td>True</td>\n",
       "    </tr>\n",
       "    <tr>\n",
       "      <td>2</td>\n",
       "      <td>666033412701032449</td>\n",
       "      <td>https://pbs.twimg.com/media/CT4521TWwAEvMyu.jpg</td>\n",
       "      <td>1</td>\n",
       "      <td>German_shepherd</td>\n",
       "      <td>0.596461</td>\n",
       "      <td>True</td>\n",
       "      <td>malinois</td>\n",
       "      <td>0.138584</td>\n",
       "      <td>True</td>\n",
       "      <td>bloodhound</td>\n",
       "      <td>0.116197</td>\n",
       "      <td>True</td>\n",
       "    </tr>\n",
       "  </tbody>\n",
       "</table>\n",
       "</div>"
      ],
      "text/plain": [
       "             tweet_id                                          jpg_url  \\\n",
       "0  666020888022790149  https://pbs.twimg.com/media/CT4udn0WwAA0aMy.jpg   \n",
       "1  666029285002620928  https://pbs.twimg.com/media/CT42GRgUYAA5iDo.jpg   \n",
       "2  666033412701032449  https://pbs.twimg.com/media/CT4521TWwAEvMyu.jpg   \n",
       "\n",
       "   img_num                      p1   p1_conf  p1_dog                  p2  \\\n",
       "0        1  Welsh_springer_spaniel  0.465074    True              collie   \n",
       "1        1                 redbone  0.506826    True  miniature_pinscher   \n",
       "2        1         German_shepherd  0.596461    True            malinois   \n",
       "\n",
       "    p2_conf  p2_dog                   p3   p3_conf  p3_dog  \n",
       "0  0.156665    True    Shetland_sheepdog  0.061428    True  \n",
       "1  0.074192    True  Rhodesian_ridgeback  0.072010    True  \n",
       "2  0.138584    True           bloodhound  0.116197    True  "
      ]
     },
     "execution_count": 1109,
     "metadata": {},
     "output_type": "execute_result"
    }
   ],
   "source": [
    "img.head(3)"
   ]
  },
  {
   "cell_type": "markdown",
   "metadata": {},
   "source": [
    "#### Define\n",
    "* AI guesses and probabilities are split into 3 different sections (p1, p2, p3)\n",
    "* Non-existent dog breed types in columns: bookshop, syringe, flamingo...\n",
    "\n",
    "I see that some predictions of `p1`, `p2`, and `p3` are false. Therefore, I will create a column `breed` and use:\n",
    " * the `p1` dog name if `p1_dog` is True;\n",
    " * `p2` is `p1_dog` is False but `p2_dog` is True; \n",
    " * `p3` if both `p1` and `p2` are False, but `p3` is True;\n",
    " * Finally, I will name the breed 'unknown' if none of the AI's predictions found a dog on the photo\n",
    "\n",
    "#### Code"
   ]
  },
  {
   "cell_type": "code",
   "execution_count": 1110,
   "metadata": {},
   "outputs": [
    {
     "data": {
      "text/html": [
       "<div>\n",
       "<style scoped>\n",
       "    .dataframe tbody tr th:only-of-type {\n",
       "        vertical-align: middle;\n",
       "    }\n",
       "\n",
       "    .dataframe tbody tr th {\n",
       "        vertical-align: top;\n",
       "    }\n",
       "\n",
       "    .dataframe thead th {\n",
       "        text-align: right;\n",
       "    }\n",
       "</style>\n",
       "<table border=\"1\" class=\"dataframe\">\n",
       "  <thead>\n",
       "    <tr style=\"text-align: right;\">\n",
       "      <th></th>\n",
       "      <th>tweet_id</th>\n",
       "      <th>jpg_url</th>\n",
       "      <th>img_num</th>\n",
       "      <th>p1</th>\n",
       "      <th>p1_conf</th>\n",
       "      <th>p1_dog</th>\n",
       "      <th>p2</th>\n",
       "      <th>p2_conf</th>\n",
       "      <th>p2_dog</th>\n",
       "      <th>p3</th>\n",
       "      <th>p3_conf</th>\n",
       "      <th>p3_dog</th>\n",
       "      <th>dog_breed</th>\n",
       "    </tr>\n",
       "  </thead>\n",
       "  <tbody>\n",
       "    <tr>\n",
       "      <td>0</td>\n",
       "      <td>666020888022790149</td>\n",
       "      <td>https://pbs.twimg.com/media/CT4udn0WwAA0aMy.jpg</td>\n",
       "      <td>1</td>\n",
       "      <td>Welsh_springer_spaniel</td>\n",
       "      <td>0.465074</td>\n",
       "      <td>True</td>\n",
       "      <td>collie</td>\n",
       "      <td>0.156665</td>\n",
       "      <td>True</td>\n",
       "      <td>Shetland_sheepdog</td>\n",
       "      <td>0.061428</td>\n",
       "      <td>True</td>\n",
       "      <td>a</td>\n",
       "    </tr>\n",
       "  </tbody>\n",
       "</table>\n",
       "</div>"
      ],
      "text/plain": [
       "             tweet_id                                          jpg_url  \\\n",
       "0  666020888022790149  https://pbs.twimg.com/media/CT4udn0WwAA0aMy.jpg   \n",
       "\n",
       "   img_num                      p1   p1_conf  p1_dog      p2   p2_conf  \\\n",
       "0        1  Welsh_springer_spaniel  0.465074    True  collie  0.156665   \n",
       "\n",
       "   p2_dog                 p3   p3_conf  p3_dog dog_breed  \n",
       "0    True  Shetland_sheepdog  0.061428    True         a  "
      ]
     },
     "execution_count": 1110,
     "metadata": {},
     "output_type": "execute_result"
    }
   ],
   "source": [
    "# Create a new column and fill it in with a simple string\n",
    "img['dog_breed'] = \"a\"\n",
    "img.head(1)"
   ]
  },
  {
   "cell_type": "code",
   "execution_count": 1111,
   "metadata": {},
   "outputs": [],
   "source": [
    "# Apply the for loop\n",
    "for i in range(len(img)):\n",
    "    if img.iloc[i].p1_dog == True:\n",
    "        img.dog_breed.iloc[i] = img.iloc[i].p1\n",
    "    elif img.iloc[i].p2_dog == True:\n",
    "        img.dog_breed.iloc[i] = img.iloc[i].p2\n",
    "    elif img.iloc[i].p3_dog == True:\n",
    "        img.dog_breed.iloc[i] = img.iloc[i].p3\n",
    "    else: img.dog_breed.iloc[i] = 'unknown'"
   ]
  },
  {
   "cell_type": "code",
   "execution_count": 1112,
   "metadata": {},
   "outputs": [
    {
     "data": {
      "text/plain": [
       "Index(['tweet_id', 'jpg_url', 'img_num', 'p1', 'p1_conf', 'p1_dog', 'p2',\n",
       "       'p2_conf', 'p2_dog', 'p3', 'p3_conf', 'p3_dog', 'dog_breed'],\n",
       "      dtype='object')"
      ]
     },
     "execution_count": 1112,
     "metadata": {},
     "output_type": "execute_result"
    }
   ],
   "source": [
    "img.columns"
   ]
  },
  {
   "cell_type": "code",
   "execution_count": 1113,
   "metadata": {},
   "outputs": [],
   "source": [
    "# drop the 8 columns that we do not need anymore\n",
    "img = img.drop(['img_num', 'p1', 'p1_dog', 'p2', 'p2_conf', 'p2_dog', 'p3', 'p3_conf', 'p3_dog'], axis = 1)"
   ]
  },
  {
   "cell_type": "code",
   "execution_count": 1114,
   "metadata": {},
   "outputs": [],
   "source": [
    "# Rename the column \"p1_conf\" to \"breed_conf\"\n",
    "img = img.rename(columns={'p1_conf':'breed_conf'})"
   ]
  },
  {
   "cell_type": "code",
   "execution_count": 1117,
   "metadata": {},
   "outputs": [],
   "source": [
    "# Rearrange columns\n",
    "img = img[['tweet_id', 'dog_breed', 'breed_conf', 'jpg_url']]"
   ]
  },
  {
   "cell_type": "markdown",
   "metadata": {},
   "source": [
    "#### Test"
   ]
  },
  {
   "cell_type": "code",
   "execution_count": 1118,
   "metadata": {},
   "outputs": [
    {
     "data": {
      "text/html": [
       "<div>\n",
       "<style scoped>\n",
       "    .dataframe tbody tr th:only-of-type {\n",
       "        vertical-align: middle;\n",
       "    }\n",
       "\n",
       "    .dataframe tbody tr th {\n",
       "        vertical-align: top;\n",
       "    }\n",
       "\n",
       "    .dataframe thead th {\n",
       "        text-align: right;\n",
       "    }\n",
       "</style>\n",
       "<table border=\"1\" class=\"dataframe\">\n",
       "  <thead>\n",
       "    <tr style=\"text-align: right;\">\n",
       "      <th></th>\n",
       "      <th>tweet_id</th>\n",
       "      <th>dog_breed</th>\n",
       "      <th>breed_conf</th>\n",
       "      <th>jpg_url</th>\n",
       "    </tr>\n",
       "  </thead>\n",
       "  <tbody>\n",
       "    <tr>\n",
       "      <td>0</td>\n",
       "      <td>666020888022790149</td>\n",
       "      <td>Welsh_springer_spaniel</td>\n",
       "      <td>0.465074</td>\n",
       "      <td>https://pbs.twimg.com/media/CT4udn0WwAA0aMy.jpg</td>\n",
       "    </tr>\n",
       "  </tbody>\n",
       "</table>\n",
       "</div>"
      ],
      "text/plain": [
       "             tweet_id               dog_breed  breed_conf  \\\n",
       "0  666020888022790149  Welsh_springer_spaniel    0.465074   \n",
       "\n",
       "                                           jpg_url  \n",
       "0  https://pbs.twimg.com/media/CT4udn0WwAA0aMy.jpg  "
      ]
     },
     "execution_count": 1118,
     "metadata": {},
     "output_type": "execute_result"
    }
   ],
   "source": [
    "# Test if the above code worked\n",
    "img.head(1)"
   ]
  },
  {
   "cell_type": "markdown",
   "metadata": {},
   "source": [
    "#### Define\n",
    "* Different namecases in `p1`, `p2`, and `p3`;\n",
    "\n",
    "The problem became much easier since all of these columns were dropped, and now we only had `dog_breed` to adjust. I use lower case on every breed in this column.\n",
    "#### Code"
   ]
  },
  {
   "cell_type": "code",
   "execution_count": 1119,
   "metadata": {},
   "outputs": [],
   "source": [
    "img['dog_breed'] = img['dog_breed'].str.lower()"
   ]
  },
  {
   "cell_type": "markdown",
   "metadata": {},
   "source": [
    "#### Test"
   ]
  },
  {
   "cell_type": "code",
   "execution_count": 1120,
   "metadata": {
    "scrolled": true
   },
   "outputs": [
    {
     "data": {
      "text/html": [
       "<div>\n",
       "<style scoped>\n",
       "    .dataframe tbody tr th:only-of-type {\n",
       "        vertical-align: middle;\n",
       "    }\n",
       "\n",
       "    .dataframe tbody tr th {\n",
       "        vertical-align: top;\n",
       "    }\n",
       "\n",
       "    .dataframe thead th {\n",
       "        text-align: right;\n",
       "    }\n",
       "</style>\n",
       "<table border=\"1\" class=\"dataframe\">\n",
       "  <thead>\n",
       "    <tr style=\"text-align: right;\">\n",
       "      <th></th>\n",
       "      <th>tweet_id</th>\n",
       "      <th>dog_breed</th>\n",
       "      <th>breed_conf</th>\n",
       "      <th>jpg_url</th>\n",
       "    </tr>\n",
       "  </thead>\n",
       "  <tbody>\n",
       "    <tr>\n",
       "      <td>922</td>\n",
       "      <td>702217446468493312</td>\n",
       "      <td>golden_retriever</td>\n",
       "      <td>0.242419</td>\n",
       "      <td>https://pbs.twimg.com/media/Cb7HCMkWEAAV9zY.jpg</td>\n",
       "    </tr>\n",
       "    <tr>\n",
       "      <td>1117</td>\n",
       "      <td>725786712245440512</td>\n",
       "      <td>chow</td>\n",
       "      <td>0.335761</td>\n",
       "      <td>https://pbs.twimg.com/media/ChKDKmIWIAIJP_e.jpg</td>\n",
       "    </tr>\n",
       "    <tr>\n",
       "      <td>335</td>\n",
       "      <td>672205392827572224</td>\n",
       "      <td>pug</td>\n",
       "      <td>0.952613</td>\n",
       "      <td>https://pbs.twimg.com/media/CVQnPMrVAAAzShR.jpg</td>\n",
       "    </tr>\n",
       "    <tr>\n",
       "      <td>2058</td>\n",
       "      <td>888917238123831296</td>\n",
       "      <td>golden_retriever</td>\n",
       "      <td>0.714719</td>\n",
       "      <td>https://pbs.twimg.com/media/DFYRgsOUQAARGhO.jpg</td>\n",
       "    </tr>\n",
       "    <tr>\n",
       "      <td>1226</td>\n",
       "      <td>745057283344719872</td>\n",
       "      <td>shetland_sheepdog</td>\n",
       "      <td>0.963985</td>\n",
       "      <td>https://pbs.twimg.com/media/Clb5pLJWMAE-QS1.jpg</td>\n",
       "    </tr>\n",
       "    <tr>\n",
       "      <td>749</td>\n",
       "      <td>687818504314159109</td>\n",
       "      <td>lakeland_terrier</td>\n",
       "      <td>0.873029</td>\n",
       "      <td>https://pbs.twimg.com/media/CYufR8_WQAAWCqo.jpg</td>\n",
       "    </tr>\n",
       "    <tr>\n",
       "      <td>1976</td>\n",
       "      <td>870308999962521604</td>\n",
       "      <td>greater_swiss_mountain_dog</td>\n",
       "      <td>0.622752</td>\n",
       "      <td>https://pbs.twimg.com/media/DBP1asiUAAEKZI5.jpg</td>\n",
       "    </tr>\n",
       "    <tr>\n",
       "      <td>48</td>\n",
       "      <td>666826780179869698</td>\n",
       "      <td>maltese_dog</td>\n",
       "      <td>0.359383</td>\n",
       "      <td>https://pbs.twimg.com/media/CUELa0NUkAAscGC.jpg</td>\n",
       "    </tr>\n",
       "    <tr>\n",
       "      <td>837</td>\n",
       "      <td>694329668942569472</td>\n",
       "      <td>boxer</td>\n",
       "      <td>0.990060</td>\n",
       "      <td>https://pbs.twimg.com/media/CaLBJmOWYAQt44t.jpg</td>\n",
       "    </tr>\n",
       "    <tr>\n",
       "      <td>771</td>\n",
       "      <td>689517482558820352</td>\n",
       "      <td>pembroke</td>\n",
       "      <td>0.799319</td>\n",
       "      <td>https://pbs.twimg.com/media/CZGofjJW0AINjN9.jpg</td>\n",
       "    </tr>\n",
       "  </tbody>\n",
       "</table>\n",
       "</div>"
      ],
      "text/plain": [
       "                tweet_id                   dog_breed  breed_conf  \\\n",
       "922   702217446468493312            golden_retriever    0.242419   \n",
       "1117  725786712245440512                        chow    0.335761   \n",
       "335   672205392827572224                         pug    0.952613   \n",
       "2058  888917238123831296            golden_retriever    0.714719   \n",
       "1226  745057283344719872           shetland_sheepdog    0.963985   \n",
       "749   687818504314159109            lakeland_terrier    0.873029   \n",
       "1976  870308999962521604  greater_swiss_mountain_dog    0.622752   \n",
       "48    666826780179869698                 maltese_dog    0.359383   \n",
       "837   694329668942569472                       boxer    0.990060   \n",
       "771   689517482558820352                    pembroke    0.799319   \n",
       "\n",
       "                                              jpg_url  \n",
       "922   https://pbs.twimg.com/media/Cb7HCMkWEAAV9zY.jpg  \n",
       "1117  https://pbs.twimg.com/media/ChKDKmIWIAIJP_e.jpg  \n",
       "335   https://pbs.twimg.com/media/CVQnPMrVAAAzShR.jpg  \n",
       "2058  https://pbs.twimg.com/media/DFYRgsOUQAARGhO.jpg  \n",
       "1226  https://pbs.twimg.com/media/Clb5pLJWMAE-QS1.jpg  \n",
       "749   https://pbs.twimg.com/media/CYufR8_WQAAWCqo.jpg  \n",
       "1976  https://pbs.twimg.com/media/DBP1asiUAAEKZI5.jpg  \n",
       "48    https://pbs.twimg.com/media/CUELa0NUkAAscGC.jpg  \n",
       "837   https://pbs.twimg.com/media/CaLBJmOWYAQt44t.jpg  \n",
       "771   https://pbs.twimg.com/media/CZGofjJW0AINjN9.jpg  "
      ]
     },
     "execution_count": 1120,
     "metadata": {},
     "output_type": "execute_result"
    }
   ],
   "source": [
    "# Check if chahges were applied\n",
    "img.sample(10)"
   ]
  },
  {
   "cell_type": "markdown",
   "metadata": {},
   "source": [
    "Now, let's move on the the last data frame: `rt`\n",
    "\n",
    "#### Define\n",
    "* Data types for `tweet_id`, `retweet_count`, `favorite_count` are not `int64`\n",
    "\n",
    "Need to change the data type programatically using `astype(int)`\n",
    "#### Code"
   ]
  },
  {
   "cell_type": "code",
   "execution_count": 1121,
   "metadata": {},
   "outputs": [],
   "source": [
    "# Change the data type\n",
    "rt = rt[['tweet_id','retweet_count','favorite_count']].astype(int)"
   ]
  },
  {
   "cell_type": "markdown",
   "metadata": {},
   "source": [
    "#### Test"
   ]
  },
  {
   "cell_type": "code",
   "execution_count": 1122,
   "metadata": {},
   "outputs": [
    {
     "name": "stdout",
     "output_type": "stream",
     "text": [
      "<class 'pandas.core.frame.DataFrame'>\n",
      "RangeIndex: 2354 entries, 0 to 2353\n",
      "Data columns (total 3 columns):\n",
      "tweet_id          2354 non-null int64\n",
      "retweet_count     2354 non-null int64\n",
      "favorite_count    2354 non-null int64\n",
      "dtypes: int64(3)\n",
      "memory usage: 55.3 KB\n"
     ]
    }
   ],
   "source": [
    "# Check the information about the data frame\n",
    "rt.info()"
   ]
  },
  {
   "cell_type": "markdown",
   "metadata": {},
   "source": [
    "#### Define \n",
    "* After cleaning the three data frames, they can be merged into one - using `df_arch` as a main element.\n",
    "\n",
    "Now we can merge all the three tables by `tweet_id`\n",
    "#### Code"
   ]
  },
  {
   "cell_type": "code",
   "execution_count": 1123,
   "metadata": {},
   "outputs": [],
   "source": [
    "# Merge arch and img data frames\n",
    "arch_img = pd.merge(arch,img,how='left',on='tweet_id')"
   ]
  },
  {
   "cell_type": "code",
   "execution_count": 1124,
   "metadata": {},
   "outputs": [],
   "source": [
    "# Merge the resulting data frame with rt to get the full table\n",
    "full = pd.merge(arch_img,rt,how='left',on='tweet_id')"
   ]
  },
  {
   "cell_type": "code",
   "execution_count": 1125,
   "metadata": {},
   "outputs": [
    {
     "data": {
      "text/plain": [
       "Index(['tweet_id', 'timestamp', 'source', 'text', 'expanded_urls',\n",
       "       'rating_numerator', 'rating_denominator', 'name', 'dogtionary_type',\n",
       "       'dog_breed', 'breed_conf', 'jpg_url', 'retweet_count',\n",
       "       'favorite_count'],\n",
       "      dtype='object')"
      ]
     },
     "execution_count": 1125,
     "metadata": {},
     "output_type": "execute_result"
    }
   ],
   "source": [
    "# Get the comprehensive total column list\n",
    "full.columns"
   ]
  },
  {
   "cell_type": "code",
   "execution_count": 1126,
   "metadata": {},
   "outputs": [],
   "source": [
    "# Rearrange columns\n",
    "full = full[['tweet_id', 'text', 'retweet_count', 'favorite_count', 'dog_breed', 'breed_conf', \n",
    "             'name', 'dogtionary_type', 'rating_numerator', 'rating_denominator', 'source',\n",
    "             'timestamp','expanded_urls', 'jpg_url']]"
   ]
  },
  {
   "cell_type": "markdown",
   "metadata": {},
   "source": [
    "#### Test"
   ]
  },
  {
   "cell_type": "code",
   "execution_count": 1127,
   "metadata": {},
   "outputs": [
    {
     "data": {
      "text/html": [
       "<div>\n",
       "<style scoped>\n",
       "    .dataframe tbody tr th:only-of-type {\n",
       "        vertical-align: middle;\n",
       "    }\n",
       "\n",
       "    .dataframe tbody tr th {\n",
       "        vertical-align: top;\n",
       "    }\n",
       "\n",
       "    .dataframe thead th {\n",
       "        text-align: right;\n",
       "    }\n",
       "</style>\n",
       "<table border=\"1\" class=\"dataframe\">\n",
       "  <thead>\n",
       "    <tr style=\"text-align: right;\">\n",
       "      <th></th>\n",
       "      <th>tweet_id</th>\n",
       "      <th>text</th>\n",
       "      <th>retweet_count</th>\n",
       "      <th>favorite_count</th>\n",
       "      <th>dog_breed</th>\n",
       "      <th>breed_conf</th>\n",
       "      <th>name</th>\n",
       "      <th>dogtionary_type</th>\n",
       "      <th>rating_numerator</th>\n",
       "      <th>rating_denominator</th>\n",
       "      <th>source</th>\n",
       "      <th>timestamp</th>\n",
       "      <th>expanded_urls</th>\n",
       "      <th>jpg_url</th>\n",
       "    </tr>\n",
       "  </thead>\n",
       "  <tbody>\n",
       "    <tr>\n",
       "      <td>0</td>\n",
       "      <td>892420643555336193</td>\n",
       "      <td>This is Phineas. He's a mystical boy. Only eve...</td>\n",
       "      <td>8853</td>\n",
       "      <td>39467</td>\n",
       "      <td>unknown</td>\n",
       "      <td>0.097049</td>\n",
       "      <td>Phineas</td>\n",
       "      <td>unknown</td>\n",
       "      <td>13</td>\n",
       "      <td>10</td>\n",
       "      <td>iPhone</td>\n",
       "      <td>2017-08-01 16:23:56+00:00</td>\n",
       "      <td>https://twitter.com/dog_rates/status/892420643...</td>\n",
       "      <td>https://pbs.twimg.com/media/DGKD1-bXoAAIAUK.jpg</td>\n",
       "    </tr>\n",
       "  </tbody>\n",
       "</table>\n",
       "</div>"
      ],
      "text/plain": [
       "             tweet_id                                               text  \\\n",
       "0  892420643555336193  This is Phineas. He's a mystical boy. Only eve...   \n",
       "\n",
       "   retweet_count  favorite_count dog_breed  breed_conf     name  \\\n",
       "0           8853           39467   unknown    0.097049  Phineas   \n",
       "\n",
       "  dogtionary_type  rating_numerator  rating_denominator  source  \\\n",
       "0         unknown                13                  10  iPhone   \n",
       "\n",
       "                  timestamp  \\\n",
       "0 2017-08-01 16:23:56+00:00   \n",
       "\n",
       "                                       expanded_urls  \\\n",
       "0  https://twitter.com/dog_rates/status/892420643...   \n",
       "\n",
       "                                           jpg_url  \n",
       "0  https://pbs.twimg.com/media/DGKD1-bXoAAIAUK.jpg  "
      ]
     },
     "execution_count": 1127,
     "metadata": {},
     "output_type": "execute_result"
    }
   ],
   "source": [
    "# Get the first line of the full data frame\n",
    "full.head(1)"
   ]
  },
  {
   "cell_type": "code",
   "execution_count": 1128,
   "metadata": {},
   "outputs": [
    {
     "name": "stdout",
     "output_type": "stream",
     "text": [
      "<class 'pandas.core.frame.DataFrame'>\n",
      "Int64Index: 2031 entries, 0 to 2030\n",
      "Data columns (total 14 columns):\n",
      "tweet_id              2031 non-null int64\n",
      "text                  2031 non-null object\n",
      "retweet_count         2031 non-null int64\n",
      "favorite_count        2031 non-null int64\n",
      "dog_breed             1906 non-null object\n",
      "breed_conf            1906 non-null float64\n",
      "name                  2031 non-null object\n",
      "dogtionary_type       2031 non-null object\n",
      "rating_numerator      2031 non-null int64\n",
      "rating_denominator    2031 non-null int64\n",
      "source                2031 non-null object\n",
      "timestamp             2031 non-null datetime64[ns, UTC]\n",
      "expanded_urls         2028 non-null object\n",
      "jpg_url               1906 non-null object\n",
      "dtypes: datetime64[ns, UTC](1), float64(1), int64(5), object(7)\n",
      "memory usage: 238.0+ KB\n"
     ]
    }
   ],
   "source": [
    "#Get the detailed information about the data frame\n",
    "full.info()"
   ]
  },
  {
   "cell_type": "code",
   "execution_count": 1133,
   "metadata": {},
   "outputs": [],
   "source": [
    "# Fill null values in dog_breed with \"unknown\" and breed_conf with 0 (as we are sure these dogs have some breed)\n",
    "full['dog_breed'] = full['dog_breed'].fillna('unknown')\n",
    "full['breed_conf'] = full['breed_conf'].fillna(0)\n",
    "# Fill null values in expanded_urls and jpg_url with 'not available'\n",
    "full['expanded_urls'] = full['expanded_urls'].fillna('not available')\n",
    "full['jpg_url'] = full['jpg_url'].fillna('not available')"
   ]
  },
  {
   "cell_type": "code",
   "execution_count": 1134,
   "metadata": {},
   "outputs": [
    {
     "name": "stdout",
     "output_type": "stream",
     "text": [
      "<class 'pandas.core.frame.DataFrame'>\n",
      "Int64Index: 2031 entries, 0 to 2030\n",
      "Data columns (total 14 columns):\n",
      "tweet_id              2031 non-null int64\n",
      "text                  2031 non-null object\n",
      "retweet_count         2031 non-null int64\n",
      "favorite_count        2031 non-null int64\n",
      "dog_breed             2031 non-null object\n",
      "breed_conf            2031 non-null float64\n",
      "name                  2031 non-null object\n",
      "dogtionary_type       2031 non-null object\n",
      "rating_numerator      2031 non-null int64\n",
      "rating_denominator    2031 non-null int64\n",
      "source                2031 non-null object\n",
      "timestamp             2031 non-null datetime64[ns, UTC]\n",
      "expanded_urls         2031 non-null object\n",
      "jpg_url               2031 non-null object\n",
      "dtypes: datetime64[ns, UTC](1), float64(1), int64(5), object(7)\n",
      "memory usage: 238.0+ KB\n"
     ]
    }
   ],
   "source": [
    "# Check the modifications\n",
    "full.info()"
   ]
  },
  {
   "cell_type": "code",
   "execution_count": 1135,
   "metadata": {},
   "outputs": [],
   "source": [
    "# Save the full dataframe to a CSV file\n",
    "full.to_csv('twitter_full_database.csv', index = False)"
   ]
  }
 ],
 "metadata": {
  "kernelspec": {
   "display_name": "Python 3",
   "language": "python",
   "name": "python3"
  },
  "language_info": {
   "codemirror_mode": {
    "name": "ipython",
    "version": 3
   },
   "file_extension": ".py",
   "mimetype": "text/x-python",
   "name": "python",
   "nbconvert_exporter": "python",
   "pygments_lexer": "ipython3",
   "version": "3.7.4"
  }
 },
 "nbformat": 4,
 "nbformat_minor": 2
}
